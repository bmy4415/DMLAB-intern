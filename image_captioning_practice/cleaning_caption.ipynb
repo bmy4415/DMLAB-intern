{
 "cells": [
  {
   "cell_type": "code",
   "execution_count": 25,
   "metadata": {},
   "outputs": [],
   "source": [
    "import os\n",
    "from pprint import pprint\n",
    "\n",
    "caption_filepath = os.getcwd() + '/Flickr8k_text/Flickr8k.token.txt'\n",
    "with open(caption_filepath, 'r') as f:\n",
    "    caption = f.read()"
   ]
  },
  {
   "cell_type": "code",
   "execution_count": 26,
   "metadata": {},
   "outputs": [
    {
     "name": "stdout",
     "output_type": "stream",
     "text": [
      "1000268201_693b08cb0e.jpg#0\tA child in a pink dress is climbing up a set of stairs in an entry way .\n",
      "1000268201_693b08cb0e.jpg#1\tA girl going into a wooden building .\n",
      "1000268201_693b08cb0e.jpg#2\tA lit\n"
     ]
    }
   ],
   "source": [
    "print(caption[:200])"
   ]
  },
  {
   "cell_type": "code",
   "execution_count": 70,
   "metadata": {},
   "outputs": [],
   "source": [
    "caption_dict = dict()\n",
    "for line in caption.split('\\n'):\n",
    "    if len(line.split('\\t')) != 2:\n",
    "        continue\n",
    "        \n",
    "    image_id = line.split('\\t')[0].split('.')[0] # remove '.jpg'\n",
    "    image_caption = line.split('\\t')[1]\n",
    "    \n",
    "    if image_id in caption_dict:\n",
    "        caption_dict[image_id].append(image_caption)\n",
    "        \n",
    "    else:\n",
    "        caption_dict[image_id] = [image_caption]"
   ]
  },
  {
   "cell_type": "code",
   "execution_count": 71,
   "metadata": {},
   "outputs": [
    {
     "name": "stdout",
     "output_type": "stream",
     "text": [
      "781118358_19087c9ec0\n",
      "['A curly-haired boy jumps up on a bed .',\n",
      " 'A little boy jumping on the bed',\n",
      " 'A little boy with brown curly hair , wearing a red shirt , is jumping on a '\n",
      " 'white bed .',\n",
      " 'A young boy in a red shirt jumps on a bed .',\n",
      " 'The young boy in the red and blue outfit is poised in midair .']\n",
      "\n",
      "3513265399_a32e8cfd18\n",
      "['A baseball player slides home in a non professional baseball game in an HDR '\n",
      " 'photograph .',\n",
      " 'A child is sliding into home plate and the catcher is waiting .',\n",
      " 'A player is sliding into home plate with the catcher guarding it .',\n",
      " 'A runner is sliding into home while the cathcer covers the plate in a '\n",
      " 'softball game .',\n",
      " 'A woman slides into home while the catcher tries to block .']\n",
      "\n"
     ]
    }
   ],
   "source": [
    "for k, v in list(caption_dict.items())[:2]:\n",
    "    print(k)\n",
    "    pprint(v)\n",
    "    print()"
   ]
  },
  {
   "cell_type": "code",
   "execution_count": 72,
   "metadata": {},
   "outputs": [
    {
     "name": "stdout",
     "output_type": "stream",
     "text": [
      "# of image_id: 8092\n"
     ]
    }
   ],
   "source": [
    "print('# of image_id:', len(caption_dict))"
   ]
  },
  {
   "cell_type": "code",
   "execution_count": 73,
   "metadata": {},
   "outputs": [],
   "source": [
    "# clean caption stirng\n",
    "import string\n",
    "\n",
    "for key in caption_dict:\n",
    "    caption_list = caption_dict[key]\n",
    "    for i, caption in enumerate(caption_list):\n",
    "        caption = caption.translate(str.maketrans('', '', string.punctuation)) # remove all punctuation\n",
    "        caption = caption.lower() # lowercase\n",
    "        caption = caption.split() # tokenize\n",
    "        caption = [word for word in caption if len(word)>1] # remove short word like 'a'\n",
    "        caption = [word for word in caption if word.isalpha()] # remove number\n",
    "        caption = ' '.join(caption) # revert to string\n",
    "        caption_list[i] = caption\n",
    "        "
   ]
  },
  {
   "cell_type": "code",
   "execution_count": 75,
   "metadata": {},
   "outputs": [],
   "source": [
    "# check how many distinct word in all captions\n",
    "word_set = set()\n",
    "for key in caption_dict:\n",
    "    caption_list = caption_dict[key]\n",
    "    for caption in caption_list:\n",
    "        word_set.update(caption.split())"
   ]
  },
  {
   "cell_type": "code",
   "execution_count": 79,
   "metadata": {},
   "outputs": [
    {
     "name": "stdout",
     "output_type": "stream",
     "text": [
      "# of distinct word: 8763\n"
     ]
    }
   ],
   "source": [
    "print('# of distinct word:', len(word_set))"
   ]
  },
  {
   "cell_type": "code",
   "execution_count": 81,
   "metadata": {},
   "outputs": [],
   "source": [
    "lines = []\n",
    "for key in caption_dict:\n",
    "    caption_list = caption_dict[key]\n",
    "    for caption in caption_list:\n",
    "        lines.append(key + ' ' + caption)"
   ]
  },
  {
   "cell_type": "code",
   "execution_count": 83,
   "metadata": {},
   "outputs": [
    {
     "name": "stdout",
     "output_type": "stream",
     "text": [
      "['781118358_19087c9ec0 curlyhaired boy jumps up on bed',\n",
      " '781118358_19087c9ec0 little boy jumping on the bed',\n",
      " '781118358_19087c9ec0 little boy with brown curly hair wearing red shirt is '\n",
      " 'jumping on white bed',\n",
      " '781118358_19087c9ec0 young boy in red shirt jumps on bed',\n",
      " '781118358_19087c9ec0 the young boy in the red and blue outfit is poised in '\n",
      " 'midair']\n"
     ]
    }
   ],
   "source": [
    "pprint(lines[:5])"
   ]
  },
  {
   "cell_type": "code",
   "execution_count": 84,
   "metadata": {},
   "outputs": [],
   "source": [
    "# each line: <image id> <caption>\n",
    "with open('captions.txt', 'w') as f:\n",
    "    f.write('\\n'.join(lines))"
   ]
  },
  {
   "cell_type": "code",
   "execution_count": null,
   "metadata": {},
   "outputs": [],
   "source": []
  }
 ],
 "metadata": {
  "kernelspec": {
   "display_name": "Python 3",
   "language": "python",
   "name": "python3"
  },
  "language_info": {
   "codemirror_mode": {
    "name": "ipython",
    "version": 3
   },
   "file_extension": ".py",
   "mimetype": "text/x-python",
   "name": "python",
   "nbconvert_exporter": "python",
   "pygments_lexer": "ipython3",
   "version": "3.5.4"
  }
 },
 "nbformat": 4,
 "nbformat_minor": 2
}
