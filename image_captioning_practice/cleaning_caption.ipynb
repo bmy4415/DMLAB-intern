{
 "cells": [
  {
   "cell_type": "code",
   "execution_count": 14,
   "metadata": {},
   "outputs": [
    {
     "data": {
      "text/plain": [
       "'\\nipynb for pre-process caption\\n'"
      ]
     },
     "execution_count": 14,
     "metadata": {},
     "output_type": "execute_result"
    }
   ],
   "source": [
    "'''\n",
    "ipynb for pre-process caption\n",
    "'''"
   ]
  },
  {
   "cell_type": "code",
   "execution_count": 15,
   "metadata": {},
   "outputs": [],
   "source": [
    "import os\n",
    "from pprint import pprint\n",
    "\n",
    "caption_filepath = os.getcwd() + '/Flickr8k_text/Flickr8k.token.txt'\n",
    "with open(caption_filepath, 'r') as f:\n",
    "    caption = f.read()"
   ]
  },
  {
   "cell_type": "code",
   "execution_count": 16,
   "metadata": {},
   "outputs": [
    {
     "name": "stdout",
     "output_type": "stream",
     "text": [
      "<class 'str'> 1000268201_693b08cb0e.jpg#0\tA child in a pink dress is climbing up a set of stairs in an entry way .\n",
      "1000268201_693b08cb0e.jpg#1\tA girl going into a wooden building .\n",
      "1000268201_693b08cb0e.jpg#2\tA lit\n"
     ]
    }
   ],
   "source": [
    "print(type(caption), caption[:200])"
   ]
  },
  {
   "cell_type": "code",
   "execution_count": 17,
   "metadata": {},
   "outputs": [],
   "source": [
    "caption_dict = dict()\n",
    "for line in caption.split('\\n'):\n",
    "    if len(line.split('\\t')) != 2:\n",
    "        continue\n",
    "        \n",
    "    image_id = line.split('\\t')[0].split('.')[0] # remove '.jpg'\n",
    "    image_caption = line.split('\\t')[1]\n",
    "    \n",
    "    if image_id in caption_dict:\n",
    "        caption_dict[image_id].append(image_caption)\n",
    "        \n",
    "    else:\n",
    "        caption_dict[image_id] = [image_caption]"
   ]
  },
  {
   "cell_type": "code",
   "execution_count": 18,
   "metadata": {},
   "outputs": [
    {
     "name": "stdout",
     "output_type": "stream",
     "text": [
      "2460799229_ce45a1d940\n",
      "['asian boys play on a raft in a lake',\n",
      " 'The three boys who are wearing life jackets are looking into the water .',\n",
      " 'Three boys in life jackets float on a raft .',\n",
      " 'Three boys wearing life jackets are on top of innertube in the water .',\n",
      " 'Three boys wearing yellow lifevests on a raft on the water .']\n",
      "\n",
      "3564148252_aa4cb36a32\n",
      "['A man on a motorcycle touches his knee to the ground during a sharp turn .',\n",
      " 'A motorcycle racer riding a yellow motorcycle .',\n",
      " 'A person on a motorcycle .',\n",
      " 'A yellow motorcycle and rider take a turn .',\n",
      " 'The motorcycle rider in yellow and black is making a turn .']\n",
      "\n"
     ]
    }
   ],
   "source": [
    "for k, v in list(caption_dict.items())[:2]:\n",
    "    print(k)\n",
    "    pprint(v)\n",
    "    print()"
   ]
  },
  {
   "cell_type": "code",
   "execution_count": 19,
   "metadata": {},
   "outputs": [
    {
     "name": "stdout",
     "output_type": "stream",
     "text": [
      "# of image_id: 8092\n"
     ]
    }
   ],
   "source": [
    "print('# of image_id:', len(caption_dict))"
   ]
  },
  {
   "cell_type": "code",
   "execution_count": 20,
   "metadata": {},
   "outputs": [],
   "source": [
    "# clean caption stirng\n",
    "import string\n",
    "\n",
    "for key in caption_dict:\n",
    "    caption_list = caption_dict[key]\n",
    "    for i, caption in enumerate(caption_list):\n",
    "        caption = caption.translate(str.maketrans('', '', string.punctuation)) # remove all punctuation\n",
    "        caption = caption.lower() # lowercase\n",
    "        caption = caption.split() # tokenize\n",
    "        caption = [word for word in caption if len(word)>1] # remove short word like 'a'\n",
    "        caption = [word for word in caption if word.isalpha()] # remove number\n",
    "        caption = ' '.join(caption) # revert to string\n",
    "        caption_list[i] = caption\n",
    "        "
   ]
  },
  {
   "cell_type": "code",
   "execution_count": 21,
   "metadata": {},
   "outputs": [],
   "source": [
    "# check how many distinct word in all captions\n",
    "word_set = set()\n",
    "for key in caption_dict:\n",
    "    caption_list = caption_dict[key]\n",
    "    for caption in caption_list:\n",
    "        word_set.update(caption.split())"
   ]
  },
  {
   "cell_type": "code",
   "execution_count": 22,
   "metadata": {},
   "outputs": [
    {
     "name": "stdout",
     "output_type": "stream",
     "text": [
      "# of distinct word: 8763\n"
     ]
    }
   ],
   "source": [
    "print('# of distinct word:', len(word_set))"
   ]
  },
  {
   "cell_type": "code",
   "execution_count": 23,
   "metadata": {},
   "outputs": [],
   "source": [
    "lines = []\n",
    "for key in caption_dict:\n",
    "    caption_list = caption_dict[key]\n",
    "    for caption in caption_list:\n",
    "        lines.append(key + ' ' + caption)"
   ]
  },
  {
   "cell_type": "code",
   "execution_count": 24,
   "metadata": {},
   "outputs": [
    {
     "name": "stdout",
     "output_type": "stream",
     "text": [
      "['2460799229_ce45a1d940 asian boys play on raft in lake',\n",
      " '2460799229_ce45a1d940 the three boys who are wearing life jackets are '\n",
      " 'looking into the water',\n",
      " '2460799229_ce45a1d940 three boys in life jackets float on raft',\n",
      " '2460799229_ce45a1d940 three boys wearing life jackets are on top of '\n",
      " 'innertube in the water',\n",
      " '2460799229_ce45a1d940 three boys wearing yellow lifevests on raft on the '\n",
      " 'water']\n"
     ]
    }
   ],
   "source": [
    "pprint(lines[:5])"
   ]
  },
  {
   "cell_type": "code",
   "execution_count": 25,
   "metadata": {},
   "outputs": [],
   "source": [
    "# each line: <image id> <caption>\n",
    "with open('captions.txt', 'w') as f:\n",
    "    f.write('\\n'.join(lines))"
   ]
  },
  {
   "cell_type": "code",
   "execution_count": null,
   "metadata": {},
   "outputs": [],
   "source": []
  }
 ],
 "metadata": {
  "kernelspec": {
   "display_name": "Python 3",
   "language": "python",
   "name": "python3"
  },
  "language_info": {
   "codemirror_mode": {
    "name": "ipython",
    "version": 3
   },
   "file_extension": ".py",
   "mimetype": "text/x-python",
   "name": "python",
   "nbconvert_exporter": "python",
   "pygments_lexer": "ipython3",
   "version": "3.5.4"
  }
 },
 "nbformat": 4,
 "nbformat_minor": 2
}
