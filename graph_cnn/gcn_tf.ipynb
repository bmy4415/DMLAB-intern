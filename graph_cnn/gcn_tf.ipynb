{
 "cells": [
  {
   "cell_type": "code",
   "execution_count": null,
   "metadata": {},
   "outputs": [],
   "source": [
    "import numpy as np\n",
    "import tensorflow as tf\n",
    "import pandas as pd\n",
    "from sklearn.preprocessing import LabelEncoder, OneHotEncoder\n",
    "from sklearn.model_selection import train_test_split"
   ]
  },
  {
   "cell_type": "code",
   "execution_count": null,
   "metadata": {
    "scrolled": false
   },
   "outputs": [],
   "source": [
    "print(tf.VERSION)\n",
    "print(tf.__version__)"
   ]
  },
  {
   "cell_type": "code",
   "execution_count": null,
   "metadata": {},
   "outputs": [],
   "source": [
    "cora_content = pd.read_csv('./cora/cora.content', sep='\\t', header=None)\n",
    "cora_content.head()"
   ]
  },
  {
   "cell_type": "code",
   "execution_count": null,
   "metadata": {
    "scrolled": true
   },
   "outputs": [],
   "source": [
    "ids = cora_content[0].values # paper(node) ids\n",
    "vecs = cora_content[cora_content.columns[1:1434]].values # node features\n",
    "labels = cora_content[1434].values # node label\n",
    "\n",
    "print(np.unique(labels))"
   ]
  },
  {
   "cell_type": "code",
   "execution_count": null,
   "metadata": {},
   "outputs": [],
   "source": [
    "# node label one hot encoding\n",
    "labels_onehot = LabelEncoder().fit_transform(labels)\n",
    "labels_onehot = np.expand_dims(labels_onehot, axis=1)\n",
    "labels_onehot = OneHotEncoder().fit_transform(labels_onehot).toarray()"
   ]
  },
  {
   "cell_type": "code",
   "execution_count": null,
   "metadata": {},
   "outputs": [],
   "source": [
    "inds = np.arange(ids.shape[0]) # use index at identifying each node\n",
    "x = vecs\n",
    "y = labels_onehot\n",
    "print(ids.shape, x.shape, y.shape)"
   ]
  },
  {
   "cell_type": "code",
   "execution_count": null,
   "metadata": {},
   "outputs": [],
   "source": [
    "num_classes = 7\n",
    "num_per_train = 10\n",
    "num_per_test = 100\n",
    "x_train, x_test, y_train, y_test, idx_train, idx_test = train_test_split(x, y, inds, stratify=y,\n",
    "                                                    train_size=num_classes*num_per_train,\n",
    "                                                    test_size=num_classes*num_per_test,\n",
    "                                                    random_state=42)\n",
    "\n",
    "x_train, x_valid, y_train, y_valid, idx_train, idx_valid = train_test_split(x_train, y_train, idx_train,\n",
    "                                                      stratify=y_train,\n",
    "                                                      train_size=int(num_classes*num_per_train*0.8),\n",
    "                                                      test_size=int(num_classes*num_per_train*0.2),\n",
    "                                                      random_state=42)\n",
    "\n",
    "print(idx_train.shape, x_train.shape, y_train.shape) # 10 examples per class\n",
    "print(idx_valid.shape, x_valid.shape, y_valid.shape) # 10 examples per class\n",
    "print(idx_test.shape, x_test.shape, y_test.shape) # 100 examples per class"
   ]
  },
  {
   "cell_type": "markdown",
   "metadata": {},
   "source": [
    "## model"
   ]
  },
  {
   "cell_type": "code",
   "execution_count": null,
   "metadata": {},
   "outputs": [],
   "source": [
    "class DNN():\n",
    "    def __init__(self, input_dim=1433, num_classes=7):\n",
    "        init = tf.initializers.he_normal()\n",
    "        \n",
    "        self.x = tf.placeholder(tf.float32, [None, input_dim])\n",
    "        self.y = tf.placeholder(tf.float32, [None, num_classes])\n",
    "        \n",
    "        self.W1 = tf.Variable(init([input_dim, 128]))\n",
    "        self.b1 = tf.Variable(tf.zeros([128]), tf.float32)\n",
    "        self.L1 = tf.matmul(self.x, self.W1) + self.b1\n",
    "        self.L1 = tf.nn.relu(self.L1)\n",
    "        \n",
    "        self.W2 = tf.Variable(init([128, 128]))\n",
    "        self.b2 = tf.Variable(tf.zeros([128]), tf.float32)\n",
    "        self.L2 = tf.matmul(self.L1, self.W2) + self.b2\n",
    "        self.L2 = tf.nn.relu(self.L2)\n",
    "        \n",
    "        self.W3 = tf.Variable(init([128, num_classes]))\n",
    "        self.b3 = tf.Variable(tf.zeros([num_classes]), tf.float32)\n",
    "        self.logit = tf.matmul(self.L2, self.W3) + self.b3\n",
    "        \n",
    "        self.loss = tf.reduce_mean(tf.nn.softmax_cross_entropy_with_logits_v2(logits=self.logit,\n",
    "                                                                              labels=self.y))\n",
    "        \n",
    "        optimizer = tf.train.AdamOptimizer()\n",
    "        self.train_step = optimizer.minimize(self.loss)\n",
    "        \n",
    "        self.pred = tf.argmax(self.logit, axis=1)\n",
    "        \n",
    "        correct = tf.equal(self.pred, tf.argmax(self.y, axis=1))\n",
    "        self.accuracy = tf.reduce_mean(tf.cast(correct, tf.float32))"
   ]
  },
  {
   "cell_type": "code",
   "execution_count": null,
   "metadata": {},
   "outputs": [],
   "source": [
    "# train and evaluate dnn\n",
    "def dnn():\n",
    "    model = DNN()\n",
    "    epochs = 20\n",
    "    train_step = model.train_step\n",
    "    loss = model.loss\n",
    "    accuracy = model.accuracy\n",
    "    \n",
    "    with tf.Session() as sess:\n",
    "        sess.run(tf.global_variables_initializer())\n",
    "        \n",
    "        for epoch in range(epochs):\n",
    "            # full batch training because full batch size is 70(small)\n",
    "            _, train_loss, train_acc = sess.run([train_step, loss, accuracy], feed_dict={\n",
    "                model.x: x_train,\n",
    "                model.y: y_train\n",
    "            })\n",
    "            \n",
    "            _, valid_loss, valid_acc = sess.run([train_step, loss, accuracy], feed_dict={\n",
    "                model.x: x_valid,\n",
    "                model.y: y_valid\n",
    "            })\n",
    "            \n",
    "            print('epoch: %2d, tr_loss: %.4f, tr_acc: %.4f, val_loss: %.4f, val_acc: %.4f' %\n",
    "                  (epoch, train_loss, train_acc, valid_loss, valid_acc))\n",
    "            \n",
    "            \n",
    "        l, a = sess.run([loss, accuracy], feed_dict={\n",
    "            model.x: x_test,\n",
    "            model.y: y_test\n",
    "        })\n",
    "        \n",
    "        print('test loss: %.4f, accuracy: %.4f' % (l, a))\n",
    "dnn()"
   ]
  },
  {
   "cell_type": "code",
   "execution_count": null,
   "metadata": {},
   "outputs": [],
   "source": []
  },
  {
   "cell_type": "code",
   "execution_count": null,
   "metadata": {},
   "outputs": [],
   "source": [
    "class GCN():\n",
    "    def __init__(self, input_dim=1433, num_classes=7, num_nodes=2708):\n",
    "        self.x = tf.placeholder(tf.float32, [num_nodes, input_dim])\n",
    "        self.y = tf.placeholder(tf.float32, [num_nodes, num_classes])\n",
    "        self.A = tf.placeholder(tf.float32, [num_nodes, num_nodes])\n",
    "        self.mask = tf.placeholder(tf.int32, [None, 1]) # masking for train/valid/test\n",
    "        \n",
    "        init = tf.initializers.he_normal()\n",
    "        \n",
    "        self.W1 = tf.Variable(init([input_dim, 128]))\n",
    "        self.L1 = tf.matmul(tf.matmul(self.A, self.x), self.W1)\n",
    "        self.L1 = tf.nn.tanh(self.L1)\n",
    "        \n",
    "        self.W2 = tf.Variable(init([128, num_classes]))\n",
    "        self.L2 = tf.matmul(tf.matmul(self.A, self.L1), self.W2)\n",
    "        self.L2 = tf.nn.relu(self.L2)\n",
    "        \n",
    "        logits = tf.gather_nd(self.L2, self.mask)\n",
    "        labels = tf.gather_nd(self.y, self.mask)\n",
    "        self.loss = tf.reduce_mean(tf.nn.softmax_cross_entropy_with_logits_v2(logits=logits,\n",
    "                                                                              labels=labels))\n",
    "        \n",
    "        optimizer = tf.train.AdamOptimizer()\n",
    "        self.train_step = optimizer.minimize(self.loss)\n",
    "        \n",
    "        correct = tf.equal(tf.argmax(logits, axis=1), tf.argmax(labels, axis=1))\n",
    "        self.accuracy = tf.reduce_mean(tf.cast(correct, tf.float32))\n",
    "        "
   ]
  },
  {
   "cell_type": "code",
   "execution_count": null,
   "metadata": {},
   "outputs": [],
   "source": [
    "# make adj matrix from citation information\n",
    "def get_adj_matrix(ids):\n",
    "    cora_cites = np.loadtxt('./cora/cora.cites', dtype=np.int32)\n",
    "    N = ids.shape[0]\n",
    "    adj_matrix = np.zeros(shape=(N, N), dtype=np.int32)\n",
    "    \n",
    "    # iterate over line\n",
    "    for i in range(cora_cites.shape[0]):\n",
    "        node1, node2 = cora_cites[i]\n",
    "        idx1 = np.where(ids==node1)[0]\n",
    "        idx2 = np.where(ids==node2)[0]\n",
    "        \n",
    "        # treat as undirected graph\n",
    "        adj_matrix[idx1, idx2] = 1\n",
    "        adj_matrix[idx2, idx1] = 1\n",
    "    \n",
    "    return adj_matrix\n",
    "    \n",
    "# make DAD(normalization) matrix\n",
    "def get_norm_matrix(adj_matrix):\n",
    "    a_tilda = adj_matrix + np.eye(adj_matrix.shape[0]) # A_ = A+I\n",
    "    d_tilda = np.diag(1 / np.sqrt(np.sum(a_tilda, axis=1))) # D_^(-1/2)\n",
    "    return np.matmul(np.matmul(d_tilda, a_tilda), d_tilda)"
   ]
  },
  {
   "cell_type": "code",
   "execution_count": null,
   "metadata": {
    "scrolled": false
   },
   "outputs": [],
   "source": [
    "def gcn():\n",
    "    epochs = 20\n",
    "    model = GCN()\n",
    "    loss = model.loss\n",
    "    train_step = model.train_step\n",
    "    accuracy = model.accuracy\n",
    "    \n",
    "    adj_matrix = get_adj_matrix(ids)\n",
    "    norm_matrix = get_norm_matrix(adj_matrix)\n",
    "    \n",
    "    with tf.Session() as sess:\n",
    "        sess.run(tf.global_variables_initializer())\n",
    "        \n",
    "        for epoch in range(epochs):\n",
    "            # train set\n",
    "            _, train_loss, train_acc = sess.run([train_step, loss, accuracy], feed_dict={\n",
    "                model.x: x,\n",
    "                model.y: y,\n",
    "                model.A: norm_matrix,\n",
    "                model.mask: np.expand_dims(idx_train, axis=1)\n",
    "            })\n",
    "            \n",
    "            # valid set\n",
    "            _, valid_loss, valid_acc = sess.run([train_step, loss, accuracy], feed_dict={\n",
    "                model.x: x,\n",
    "                model.y: y,\n",
    "                model.A: norm_matrix,\n",
    "                model.mask: np.expand_dims(idx_valid, axis=1)\n",
    "            })\n",
    "            print('epoch: %2d, train_loss: %.4f, train_acc: %.4f, valid_loss: %.4f, valid_acc: %.4f' %\n",
    "                 (epoch, train_loss, train_acc, valid_loss, valid_acc))\n",
    "    \n",
    "        # test set\n",
    "        _, test_loss, test_acc = sess.run([train_step, loss, accuracy], feed_dict={\n",
    "            model.x: x,\n",
    "            model.y: y,\n",
    "            model.A: norm_matrix,\n",
    "            model.mask: np.expand_dims(idx_test, axis=1)\n",
    "        })\n",
    "        \n",
    "        print('test_loss: %.4f, test_acc: %.4f' % (test_loss, test_acc))\n",
    "    \n",
    "gcn()"
   ]
  },
  {
   "cell_type": "code",
   "execution_count": null,
   "metadata": {},
   "outputs": [],
   "source": []
  },
  {
   "cell_type": "code",
   "execution_count": null,
   "metadata": {},
   "outputs": [],
   "source": []
  }
 ],
 "metadata": {
  "kernelspec": {
   "display_name": "Python 3",
   "language": "python",
   "name": "python3"
  },
  "language_info": {
   "codemirror_mode": {
    "name": "ipython",
    "version": 3
   },
   "file_extension": ".py",
   "mimetype": "text/x-python",
   "name": "python",
   "nbconvert_exporter": "python",
   "pygments_lexer": "ipython3",
   "version": "3.5.4"
  }
 },
 "nbformat": 4,
 "nbformat_minor": 2
}
