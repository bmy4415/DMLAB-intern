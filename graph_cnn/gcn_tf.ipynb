{
 "cells": [
  {
   "cell_type": "code",
   "execution_count": 1,
   "metadata": {},
   "outputs": [],
   "source": [
    "import numpy as np\n",
    "import tensorflow as tf\n",
    "import pandas as pd\n",
    "from sklearn.preprocessing import LabelEncoder, OneHotEncoder\n",
    "from sklearn.model_selection import train_test_split"
   ]
  },
  {
   "cell_type": "code",
   "execution_count": 2,
   "metadata": {
    "scrolled": false
   },
   "outputs": [
    {
     "name": "stdout",
     "output_type": "stream",
     "text": [
      "1.12.0\n",
      "1.12.0\n"
     ]
    }
   ],
   "source": [
    "print(tf.VERSION)\n",
    "print(tf.__version__)"
   ]
  },
  {
   "cell_type": "code",
   "execution_count": 3,
   "metadata": {},
   "outputs": [
    {
     "data": {
      "text/html": [
       "<div>\n",
       "<style scoped>\n",
       "    .dataframe tbody tr th:only-of-type {\n",
       "        vertical-align: middle;\n",
       "    }\n",
       "\n",
       "    .dataframe tbody tr th {\n",
       "        vertical-align: top;\n",
       "    }\n",
       "\n",
       "    .dataframe thead th {\n",
       "        text-align: right;\n",
       "    }\n",
       "</style>\n",
       "<table border=\"1\" class=\"dataframe\">\n",
       "  <thead>\n",
       "    <tr style=\"text-align: right;\">\n",
       "      <th></th>\n",
       "      <th>0</th>\n",
       "      <th>1</th>\n",
       "      <th>2</th>\n",
       "      <th>3</th>\n",
       "      <th>4</th>\n",
       "      <th>5</th>\n",
       "      <th>6</th>\n",
       "      <th>7</th>\n",
       "      <th>8</th>\n",
       "      <th>9</th>\n",
       "      <th>...</th>\n",
       "      <th>1425</th>\n",
       "      <th>1426</th>\n",
       "      <th>1427</th>\n",
       "      <th>1428</th>\n",
       "      <th>1429</th>\n",
       "      <th>1430</th>\n",
       "      <th>1431</th>\n",
       "      <th>1432</th>\n",
       "      <th>1433</th>\n",
       "      <th>1434</th>\n",
       "    </tr>\n",
       "  </thead>\n",
       "  <tbody>\n",
       "    <tr>\n",
       "      <th>0</th>\n",
       "      <td>31336</td>\n",
       "      <td>0</td>\n",
       "      <td>0</td>\n",
       "      <td>0</td>\n",
       "      <td>0</td>\n",
       "      <td>0</td>\n",
       "      <td>0</td>\n",
       "      <td>0</td>\n",
       "      <td>0</td>\n",
       "      <td>0</td>\n",
       "      <td>...</td>\n",
       "      <td>0</td>\n",
       "      <td>0</td>\n",
       "      <td>1</td>\n",
       "      <td>0</td>\n",
       "      <td>0</td>\n",
       "      <td>0</td>\n",
       "      <td>0</td>\n",
       "      <td>0</td>\n",
       "      <td>0</td>\n",
       "      <td>Neural_Networks</td>\n",
       "    </tr>\n",
       "    <tr>\n",
       "      <th>1</th>\n",
       "      <td>1061127</td>\n",
       "      <td>0</td>\n",
       "      <td>0</td>\n",
       "      <td>0</td>\n",
       "      <td>0</td>\n",
       "      <td>0</td>\n",
       "      <td>0</td>\n",
       "      <td>0</td>\n",
       "      <td>0</td>\n",
       "      <td>0</td>\n",
       "      <td>...</td>\n",
       "      <td>0</td>\n",
       "      <td>1</td>\n",
       "      <td>0</td>\n",
       "      <td>0</td>\n",
       "      <td>0</td>\n",
       "      <td>0</td>\n",
       "      <td>0</td>\n",
       "      <td>0</td>\n",
       "      <td>0</td>\n",
       "      <td>Rule_Learning</td>\n",
       "    </tr>\n",
       "    <tr>\n",
       "      <th>2</th>\n",
       "      <td>1106406</td>\n",
       "      <td>0</td>\n",
       "      <td>0</td>\n",
       "      <td>0</td>\n",
       "      <td>0</td>\n",
       "      <td>0</td>\n",
       "      <td>0</td>\n",
       "      <td>0</td>\n",
       "      <td>0</td>\n",
       "      <td>0</td>\n",
       "      <td>...</td>\n",
       "      <td>0</td>\n",
       "      <td>0</td>\n",
       "      <td>0</td>\n",
       "      <td>0</td>\n",
       "      <td>0</td>\n",
       "      <td>0</td>\n",
       "      <td>0</td>\n",
       "      <td>0</td>\n",
       "      <td>0</td>\n",
       "      <td>Reinforcement_Learning</td>\n",
       "    </tr>\n",
       "    <tr>\n",
       "      <th>3</th>\n",
       "      <td>13195</td>\n",
       "      <td>0</td>\n",
       "      <td>0</td>\n",
       "      <td>0</td>\n",
       "      <td>0</td>\n",
       "      <td>0</td>\n",
       "      <td>0</td>\n",
       "      <td>0</td>\n",
       "      <td>0</td>\n",
       "      <td>0</td>\n",
       "      <td>...</td>\n",
       "      <td>0</td>\n",
       "      <td>0</td>\n",
       "      <td>0</td>\n",
       "      <td>0</td>\n",
       "      <td>0</td>\n",
       "      <td>0</td>\n",
       "      <td>0</td>\n",
       "      <td>0</td>\n",
       "      <td>0</td>\n",
       "      <td>Reinforcement_Learning</td>\n",
       "    </tr>\n",
       "    <tr>\n",
       "      <th>4</th>\n",
       "      <td>37879</td>\n",
       "      <td>0</td>\n",
       "      <td>0</td>\n",
       "      <td>0</td>\n",
       "      <td>0</td>\n",
       "      <td>0</td>\n",
       "      <td>0</td>\n",
       "      <td>0</td>\n",
       "      <td>0</td>\n",
       "      <td>0</td>\n",
       "      <td>...</td>\n",
       "      <td>0</td>\n",
       "      <td>0</td>\n",
       "      <td>0</td>\n",
       "      <td>0</td>\n",
       "      <td>0</td>\n",
       "      <td>0</td>\n",
       "      <td>0</td>\n",
       "      <td>0</td>\n",
       "      <td>0</td>\n",
       "      <td>Probabilistic_Methods</td>\n",
       "    </tr>\n",
       "  </tbody>\n",
       "</table>\n",
       "<p>5 rows × 1435 columns</p>\n",
       "</div>"
      ],
      "text/plain": [
       "      0     1     2     3     4     5     6     7     8     9     ...  1425  \\\n",
       "0    31336     0     0     0     0     0     0     0     0     0  ...     0   \n",
       "1  1061127     0     0     0     0     0     0     0     0     0  ...     0   \n",
       "2  1106406     0     0     0     0     0     0     0     0     0  ...     0   \n",
       "3    13195     0     0     0     0     0     0     0     0     0  ...     0   \n",
       "4    37879     0     0     0     0     0     0     0     0     0  ...     0   \n",
       "\n",
       "   1426  1427  1428  1429  1430  1431  1432  1433                    1434  \n",
       "0     0     1     0     0     0     0     0     0         Neural_Networks  \n",
       "1     1     0     0     0     0     0     0     0           Rule_Learning  \n",
       "2     0     0     0     0     0     0     0     0  Reinforcement_Learning  \n",
       "3     0     0     0     0     0     0     0     0  Reinforcement_Learning  \n",
       "4     0     0     0     0     0     0     0     0   Probabilistic_Methods  \n",
       "\n",
       "[5 rows x 1435 columns]"
      ]
     },
     "execution_count": 3,
     "metadata": {},
     "output_type": "execute_result"
    }
   ],
   "source": [
    "cora_content = pd.read_csv('./cora/cora.content', sep='\\t', header=None)\n",
    "cora_content.head()"
   ]
  },
  {
   "cell_type": "code",
   "execution_count": 4,
   "metadata": {
    "scrolled": true
   },
   "outputs": [
    {
     "name": "stdout",
     "output_type": "stream",
     "text": [
      "['Case_Based' 'Genetic_Algorithms' 'Neural_Networks'\n",
      " 'Probabilistic_Methods' 'Reinforcement_Learning' 'Rule_Learning' 'Theory']\n"
     ]
    }
   ],
   "source": [
    "ids = cora_content[0].values # paper(node) ids\n",
    "vecs = cora_content[cora_content.columns[1:1434]].values # node features\n",
    "labels = cora_content[1434].values # node label\n",
    "\n",
    "print(np.unique(labels))"
   ]
  },
  {
   "cell_type": "code",
   "execution_count": 5,
   "metadata": {},
   "outputs": [
    {
     "name": "stderr",
     "output_type": "stream",
     "text": [
      "/Users/bmy4415/.pyenv/versions/3.5.4/lib/python3.5/site-packages/sklearn/preprocessing/_encoders.py:368: FutureWarning: The handling of integer data will change in version 0.22. Currently, the categories are determined based on the range [0, max(values)], while in the future they will be determined based on the unique values.\n",
      "If you want the future behaviour and silence this warning, you can specify \"categories='auto'\".\n",
      "In case you used a LabelEncoder before this OneHotEncoder to convert the categories to integers, then you can now use the OneHotEncoder directly.\n",
      "  warnings.warn(msg, FutureWarning)\n"
     ]
    }
   ],
   "source": [
    "# node label one hot encoding\n",
    "labels_onehot = LabelEncoder().fit_transform(labels)\n",
    "labels_onehot = np.expand_dims(labels_onehot, axis=1)\n",
    "labels_onehot = OneHotEncoder().fit_transform(labels_onehot).toarray()"
   ]
  },
  {
   "cell_type": "code",
   "execution_count": 6,
   "metadata": {},
   "outputs": [
    {
     "name": "stdout",
     "output_type": "stream",
     "text": [
      "(2708,) (2708, 1433) (2708, 7)\n"
     ]
    }
   ],
   "source": [
    "inds = np.arange(ids.shape[0]) # use index at identifying each node\n",
    "x = vecs\n",
    "y = labels_onehot\n",
    "print(ids.shape, x.shape, y.shape)"
   ]
  },
  {
   "cell_type": "code",
   "execution_count": 7,
   "metadata": {},
   "outputs": [
    {
     "name": "stdout",
     "output_type": "stream",
     "text": [
      "(56,) (56, 1433) (56, 7)\n",
      "(14,) (14, 1433) (14, 7)\n",
      "(700,) (700, 1433) (700, 7)\n"
     ]
    }
   ],
   "source": [
    "num_classes = 7\n",
    "num_per_train = 10\n",
    "num_per_test = 100\n",
    "x_train, x_test, y_train, y_test, idx_train, idx_test = train_test_split(x, y, inds, stratify=y,\n",
    "                                                    train_size=num_classes*num_per_train,\n",
    "                                                    test_size=num_classes*num_per_test,\n",
    "                                                    random_state=42)\n",
    "\n",
    "x_train, x_valid, y_train, y_valid, idx_train, idx_valid = train_test_split(x_train, y_train, idx_train,\n",
    "                                                      stratify=y_train,\n",
    "                                                      train_size=int(num_classes*num_per_train*0.8),\n",
    "                                                      test_size=int(num_classes*num_per_train*0.2),\n",
    "                                                      random_state=42)\n",
    "\n",
    "print(idx_train.shape, x_train.shape, y_train.shape) # 10 examples per class\n",
    "print(idx_valid.shape, x_valid.shape, y_valid.shape) # 10 examples per class\n",
    "print(idx_test.shape, x_test.shape, y_test.shape) # 100 examples per class"
   ]
  },
  {
   "cell_type": "markdown",
   "metadata": {},
   "source": [
    "## model"
   ]
  },
  {
   "cell_type": "code",
   "execution_count": 8,
   "metadata": {},
   "outputs": [],
   "source": [
    "class DNN():\n",
    "    def __init__(self, input_dim=1433, num_classes=7):\n",
    "        init = tf.initializers.he_normal()\n",
    "        \n",
    "        self.x = tf.placeholder(tf.float32, [None, input_dim])\n",
    "        self.y = tf.placeholder(tf.float32, [None, num_classes])\n",
    "        \n",
    "        self.W1 = tf.Variable(init([input_dim, 128]))\n",
    "        self.b1 = tf.Variable(tf.zeros([128]), tf.float32)\n",
    "        self.L1 = tf.matmul(self.x, self.W1) + self.b1\n",
    "        self.L1 = tf.nn.relu(self.L1)\n",
    "        \n",
    "        self.W2 = tf.Variable(init([128, 128]))\n",
    "        self.b2 = tf.Variable(tf.zeros([128]), tf.float32)\n",
    "        self.L2 = tf.matmul(self.L1, self.W2) + self.b2\n",
    "        self.L2 = tf.nn.relu(self.L2)\n",
    "        \n",
    "        self.W3 = tf.Variable(init([128, num_classes]))\n",
    "        self.b3 = tf.Variable(tf.zeros([num_classes]), tf.float32)\n",
    "        self.logit = tf.matmul(self.L2, self.W3) + self.b3\n",
    "        \n",
    "        self.loss = tf.reduce_mean(tf.nn.softmax_cross_entropy_with_logits_v2(logits=self.logit,\n",
    "                                                                              labels=self.y))\n",
    "        \n",
    "        optimizer = tf.train.AdamOptimizer()\n",
    "        self.train_step = optimizer.minimize(self.loss)\n",
    "        \n",
    "        self.pred = tf.argmax(self.logit, axis=1)\n",
    "        \n",
    "        correct = tf.equal(self.pred, tf.argmax(self.y, axis=1))\n",
    "        self.accuracy = tf.reduce_mean(tf.cast(correct, tf.float32))"
   ]
  },
  {
   "cell_type": "code",
   "execution_count": 9,
   "metadata": {},
   "outputs": [
    {
     "name": "stdout",
     "output_type": "stream",
     "text": [
      "epoch:  0, tr_loss: 1.9788, tr_acc: 0.0536, val_loss: 1.9493, val_acc: 0.2143\n",
      "epoch:  1, tr_loss: 1.8096, tr_acc: 0.4107, val_loss: 1.7649, val_acc: 0.7143\n",
      "epoch:  2, tr_loss: 1.6857, tr_acc: 0.8393, val_loss: 1.6021, val_acc: 0.8571\n",
      "epoch:  3, tr_loss: 1.5744, tr_acc: 0.8571, val_loss: 1.4536, val_acc: 0.9286\n",
      "epoch:  4, tr_loss: 1.4674, tr_acc: 0.8750, val_loss: 1.3095, val_acc: 0.9286\n",
      "epoch:  5, tr_loss: 1.3611, tr_acc: 0.8929, val_loss: 1.1699, val_acc: 0.9286\n",
      "epoch:  6, tr_loss: 1.2524, tr_acc: 0.8929, val_loss: 1.0326, val_acc: 0.9286\n",
      "epoch:  7, tr_loss: 1.1412, tr_acc: 0.8929, val_loss: 0.8994, val_acc: 0.9286\n",
      "epoch:  8, tr_loss: 1.0285, tr_acc: 0.8929, val_loss: 0.7714, val_acc: 1.0000\n",
      "epoch:  9, tr_loss: 0.9153, tr_acc: 0.9464, val_loss: 0.6520, val_acc: 1.0000\n",
      "epoch: 10, tr_loss: 0.8030, tr_acc: 0.9464, val_loss: 0.5423, val_acc: 1.0000\n",
      "epoch: 11, tr_loss: 0.6951, tr_acc: 0.9643, val_loss: 0.4453, val_acc: 1.0000\n",
      "epoch: 12, tr_loss: 0.5933, tr_acc: 1.0000, val_loss: 0.3616, val_acc: 1.0000\n",
      "epoch: 13, tr_loss: 0.4995, tr_acc: 1.0000, val_loss: 0.2915, val_acc: 1.0000\n",
      "epoch: 14, tr_loss: 0.4148, tr_acc: 1.0000, val_loss: 0.2342, val_acc: 1.0000\n",
      "epoch: 15, tr_loss: 0.3403, tr_acc: 1.0000, val_loss: 0.1878, val_acc: 1.0000\n",
      "epoch: 16, tr_loss: 0.2762, tr_acc: 1.0000, val_loss: 0.1511, val_acc: 1.0000\n",
      "epoch: 17, tr_loss: 0.2227, tr_acc: 1.0000, val_loss: 0.1216, val_acc: 1.0000\n",
      "epoch: 18, tr_loss: 0.1792, tr_acc: 1.0000, val_loss: 0.0981, val_acc: 1.0000\n",
      "epoch: 19, tr_loss: 0.1443, tr_acc: 1.0000, val_loss: 0.0792, val_acc: 1.0000\n",
      "test loss: 1.5335, accuracy: 0.4486\n"
     ]
    }
   ],
   "source": [
    "# train and evaluate dnn\n",
    "def dnn():\n",
    "    model = DNN()\n",
    "    epochs = 20\n",
    "    train_step = model.train_step\n",
    "    loss = model.loss\n",
    "    accuracy = model.accuracy\n",
    "    \n",
    "    with tf.Session() as sess:\n",
    "        sess.run(tf.global_variables_initializer())\n",
    "        \n",
    "        for epoch in range(epochs):\n",
    "            # full batch training because full batch size is 70(small)\n",
    "            _, train_loss, train_acc = sess.run([train_step, loss, accuracy], feed_dict={\n",
    "                model.x: x_train,\n",
    "                model.y: y_train\n",
    "            })\n",
    "            \n",
    "            _, valid_loss, valid_acc = sess.run([train_step, loss, accuracy], feed_dict={\n",
    "                model.x: x_valid,\n",
    "                model.y: y_valid\n",
    "            })\n",
    "            \n",
    "            print('epoch: %2d, tr_loss: %.4f, tr_acc: %.4f, val_loss: %.4f, val_acc: %.4f' %\n",
    "                  (epoch, train_loss, train_acc, valid_loss, valid_acc))\n",
    "            \n",
    "            \n",
    "        l, a = sess.run([loss, accuracy], feed_dict={\n",
    "            model.x: x_test,\n",
    "            model.y: y_test\n",
    "        })\n",
    "        \n",
    "        print('test loss: %.4f, accuracy: %.4f' % (l, a))\n",
    "dnn()"
   ]
  },
  {
   "cell_type": "code",
   "execution_count": null,
   "metadata": {},
   "outputs": [],
   "source": []
  },
  {
   "cell_type": "code",
   "execution_count": 10,
   "metadata": {},
   "outputs": [],
   "source": [
    "class GCN():\n",
    "    def __init__(self, input_dim=1433, num_classes=7, num_nodes=2708):\n",
    "        self.x = tf.placeholder(tf.float32, [num_nodes, input_dim])\n",
    "        self.y = tf.placeholder(tf.float32, [num_nodes, num_classes])\n",
    "        self.A = tf.placeholder(tf.float32, [num_nodes, num_nodes])\n",
    "        self.mask = tf.placeholder(tf.int32, [None, 1]) # masking for train/valid/test\n",
    "        \n",
    "        init = tf.initializers.he_normal()\n",
    "        \n",
    "        self.W1 = tf.Variable(init([input_dim, 128]))\n",
    "        self.L1 = tf.matmul(tf.matmul(self.A, self.x), self.W1)\n",
    "        self.L1 = tf.nn.tanh(self.L1)\n",
    "        \n",
    "        self.W2 = tf.Variable(init([128, num_classes]))\n",
    "        self.L2 = tf.matmul(tf.matmul(self.A, self.L1), self.W2)\n",
    "        self.L2 = tf.nn.relu(self.L2)\n",
    "        \n",
    "        logits = tf.gather_nd(self.L2, self.mask)\n",
    "        labels = tf.gather_nd(self.y, self.mask)\n",
    "        self.loss = tf.reduce_mean(tf.nn.softmax_cross_entropy_with_logits_v2(logits=logits,\n",
    "                                                                              labels=labels))\n",
    "        \n",
    "        optimizer = tf.train.AdamOptimizer()\n",
    "        self.train_step = optimizer.minimize(self.loss)\n",
    "        \n",
    "        correct = tf.equal(tf.argmax(logits, axis=1), tf.argmax(labels, axis=1))\n",
    "        self.accuracy = tf.reduce_mean(tf.cast(correct, tf.float32))\n",
    "        "
   ]
  },
  {
   "cell_type": "code",
   "execution_count": 11,
   "metadata": {},
   "outputs": [],
   "source": [
    "# make adj matrix from citation information\n",
    "def get_adj_matrix(ids):\n",
    "    cora_cites = np.loadtxt('./cora/cora.cites', dtype=np.int32)\n",
    "    N = ids.shape[0]\n",
    "    adj_matrix = np.zeros(shape=(N, N), dtype=np.int32)\n",
    "    \n",
    "    # iterate over line\n",
    "    for i in range(cora_cites.shape[0]):\n",
    "        node1, node2 = cora_cites[i]\n",
    "        idx1 = np.where(ids==node1)[0]\n",
    "        idx2 = np.where(ids==node2)[0]\n",
    "        \n",
    "        # treat as undirected graph\n",
    "        adj_matrix[idx1, idx2] = 1\n",
    "        adj_matrix[idx2, idx1] = 1\n",
    "    \n",
    "    return adj_matrix\n",
    "    \n",
    "# make DAD(normalization) matrix\n",
    "def get_norm_matrix(adj_matrix):\n",
    "    a_tilda = adj_matrix + np.eye(adj_matrix.shape[0]) # A_ = A+I\n",
    "    d_tilda = np.diag(1 / np.sqrt(np.sum(a_tilda, axis=1))) # D_^(-1/2)\n",
    "    return np.matmul(np.matmul(d_tilda, a_tilda), d_tilda)"
   ]
  },
  {
   "cell_type": "code",
   "execution_count": 12,
   "metadata": {
    "scrolled": false
   },
   "outputs": [
    {
     "name": "stdout",
     "output_type": "stream",
     "text": [
      "epoch:  0, train_loss: 1.9571, train_acc: 0.0536, valid_loss: 1.9075, valid_acc: 0.2857\n",
      "epoch:  1, train_loss: 1.8671, train_acc: 0.4464, valid_loss: 1.7907, valid_acc: 0.5000\n",
      "epoch:  2, train_loss: 1.7911, train_acc: 0.5179, valid_loss: 1.6808, valid_acc: 0.5714\n",
      "epoch:  3, train_loss: 1.7121, train_acc: 0.5714, valid_loss: 1.5719, valid_acc: 0.5714\n",
      "epoch:  4, train_loss: 1.6309, train_acc: 0.6071, valid_loss: 1.4726, valid_acc: 0.5714\n",
      "epoch:  5, train_loss: 1.5509, train_acc: 0.6250, valid_loss: 1.3862, valid_acc: 0.5714\n",
      "epoch:  6, train_loss: 1.4754, train_acc: 0.6429, valid_loss: 1.3101, valid_acc: 0.5714\n",
      "epoch:  7, train_loss: 1.4044, train_acc: 0.6429, valid_loss: 1.2429, valid_acc: 0.5714\n",
      "epoch:  8, train_loss: 1.3372, train_acc: 0.6429, valid_loss: 1.1793, valid_acc: 0.5714\n",
      "epoch:  9, train_loss: 1.2744, train_acc: 0.6429, valid_loss: 1.1220, valid_acc: 0.6429\n",
      "epoch: 10, train_loss: 1.2142, train_acc: 0.6607, valid_loss: 1.0683, valid_acc: 0.6429\n",
      "epoch: 11, train_loss: 1.1492, train_acc: 0.7500, valid_loss: 1.0146, valid_acc: 0.6429\n",
      "epoch: 12, train_loss: 1.0789, train_acc: 0.8214, valid_loss: 0.9439, valid_acc: 0.7857\n",
      "epoch: 13, train_loss: 1.0070, train_acc: 0.8571, valid_loss: 0.8602, valid_acc: 0.7857\n",
      "epoch: 14, train_loss: 0.9339, train_acc: 0.8571, valid_loss: 0.7738, valid_acc: 0.9286\n",
      "epoch: 15, train_loss: 0.8636, train_acc: 0.8929, valid_loss: 0.6892, valid_acc: 0.9286\n",
      "epoch: 16, train_loss: 0.7985, train_acc: 0.8929, valid_loss: 0.6102, valid_acc: 0.9286\n",
      "epoch: 17, train_loss: 0.7397, train_acc: 0.9107, valid_loss: 0.5387, valid_acc: 0.9286\n",
      "epoch: 18, train_loss: 0.6870, train_acc: 0.9107, valid_loss: 0.4763, valid_acc: 0.9286\n",
      "epoch: 19, train_loss: 0.6400, train_acc: 0.9107, valid_loss: 0.4231, valid_acc: 0.9286\n",
      "test_loss: 1.2172, test_acc: 0.6871\n"
     ]
    }
   ],
   "source": [
    "def gcn():\n",
    "    epochs = 20\n",
    "    model = GCN()\n",
    "    loss = model.loss\n",
    "    train_step = model.train_step\n",
    "    accuracy = model.accuracy\n",
    "    \n",
    "    adj_matrix = get_adj_matrix(ids)\n",
    "    norm_matrix = get_norm_matrix(adj_matrix)\n",
    "    \n",
    "    with tf.Session() as sess:\n",
    "        sess.run(tf.global_variables_initializer())\n",
    "        \n",
    "        for epoch in range(epochs):\n",
    "            # train set\n",
    "            _, train_loss, train_acc = sess.run([train_step, loss, accuracy], feed_dict={\n",
    "                model.x: x,\n",
    "                model.y: y,\n",
    "                model.A: norm_matrix,\n",
    "                model.mask: np.expand_dims(idx_train, axis=1)\n",
    "            })\n",
    "            \n",
    "            # valid set\n",
    "            _, valid_loss, valid_acc = sess.run([train_step, loss, accuracy], feed_dict={\n",
    "                model.x: x,\n",
    "                model.y: y,\n",
    "                model.A: norm_matrix,\n",
    "                model.mask: np.expand_dims(idx_valid, axis=1)\n",
    "            })\n",
    "            print('epoch: %2d, train_loss: %.4f, train_acc: %.4f, valid_loss: %.4f, valid_acc: %.4f' %\n",
    "                 (epoch, train_loss, train_acc, valid_loss, valid_acc))\n",
    "    \n",
    "        # test set\n",
    "        _, test_loss, test_acc = sess.run([train_step, loss, accuracy], feed_dict={\n",
    "            model.x: x,\n",
    "            model.y: y,\n",
    "            model.A: norm_matrix,\n",
    "            model.mask: np.expand_dims(idx_test, axis=1)\n",
    "        })\n",
    "        \n",
    "        print('test_loss: %.4f, test_acc: %.4f' % (test_loss, test_acc))\n",
    "    \n",
    "gcn()"
   ]
  },
  {
   "cell_type": "code",
   "execution_count": null,
   "metadata": {},
   "outputs": [],
   "source": []
  },
  {
   "cell_type": "code",
   "execution_count": null,
   "metadata": {},
   "outputs": [],
   "source": []
  }
 ],
 "metadata": {
  "kernelspec": {
   "display_name": "Python 3",
   "language": "python",
   "name": "python3"
  },
  "language_info": {
   "codemirror_mode": {
    "name": "ipython",
    "version": 3
   },
   "file_extension": ".py",
   "mimetype": "text/x-python",
   "name": "python",
   "nbconvert_exporter": "python",
   "pygments_lexer": "ipython3",
   "version": "3.5.4"
  }
 },
 "nbformat": 4,
 "nbformat_minor": 2
}
