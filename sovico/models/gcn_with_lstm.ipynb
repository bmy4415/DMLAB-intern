{
 "cells": [
  {
   "cell_type": "code",
   "execution_count": 1,
   "metadata": {},
   "outputs": [
    {
     "name": "stderr",
     "output_type": "stream",
     "text": [
      "Using TensorFlow backend.\n"
     ]
    }
   ],
   "source": [
    "import tensorflow as tf\n",
    "import numpy as np\n",
    "import time\n",
    "from preprocess import get_window\n",
    "from sklearn.model_selection import train_test_split\n",
    "from sklearn.metrics import f1_score\n",
    "from keras.utils import to_categorical\n",
    "from tqdm import tqdm\n",
    "import os\n",
    "import logging"
   ]
  },
  {
   "cell_type": "code",
   "execution_count": 2,
   "metadata": {},
   "outputs": [],
   "source": [
    "'''\n",
    "한개의 time 단위로 train => time 기준 batch_size=1\n",
    "한개의 time에 8개의 node가 있으므로 전체적으로 보면 node 8개씩 trian하는 꼴\n",
    "masking 사용하지 않음 => F1 score나 confusion matrix로 보여줄 것이기 때문\n",
    "rnn: (batch_size, timesteps, num_input)\n",
    "'''\n",
    "class GCN_WITH_LSTM():\n",
    "    def __init__(self, frame_size, nomalized_adj, input_dim=8, num_nodes=8, num_classes=4):\n",
    "\n",
    "        init = tf.initializers.he_normal()\n",
    "        lstm_hidden = 64\n",
    "        num_lstm_layers = 1\n",
    "        gcn_hidden = 64\n",
    "        \n",
    "        # placeholders\n",
    "        self.x = tf.placeholder(tf.float32, [num_nodes, frame_size, input_dim])\n",
    "        self.y = tf.placeholder(tf.float32, [num_nodes, num_classes])\n",
    "        \n",
    "        # normalized adj matrix for GCN\n",
    "        # you can improve this by using sparse tensor when adj matrix is large\n",
    "        self.A = tf.constant(nomalized_adj, dtype=tf.float32)\n",
    "\n",
    "        # define lstm cell\n",
    "        cell = tf.nn.rnn_cell.LSTMCell(lstm_hidden)\n",
    "        cell = tf.nn.rnn_cell.MultiRNNCell([cell] * num_lstm_layers)\n",
    "                \n",
    "        # forward lstm, use tf.unstack for statc_rnn\n",
    "        # outputs[-1] represents last hidden state of each batch, shape: (batch_size, lstm_hidden)\n",
    "        outputs, _ = tf.nn.static_rnn(cell, tf.unstack(self.x, axis=1), dtype=tf.float32)\n",
    "        \n",
    "        # forward GCN\n",
    "        self.w1 = tf.Variable(init([lstm_hidden, gcn_hidden]))\n",
    "        self.h1 = tf.matmul(tf.matmul(self.A, outputs[-1]), self.w1)\n",
    "        \n",
    "        self.w2 = tf.Variable(init([gcn_hidden, num_classes]))\n",
    "        self.h2 = tf.matmul(tf.matmul(self.A, self.h1), self.w2)\n",
    "        \n",
    "        # prediction\n",
    "        self.pred = tf.argmax(self.h2, axis=1)\n",
    "        \n",
    "        # loss function\n",
    "        # (as far as I know) we cannot directly optimize metric(F1 score, accuracy ...etc)\n",
    "        self.loss = tf.reduce_mean(\n",
    "            tf.nn.softmax_cross_entropy_with_logits_v2(logits=self.h2, labels=self.y))\n",
    "\n",
    "        # optimizer\n",
    "        optimizer = tf.train.AdamOptimizer()\n",
    "        self.train_step = optimizer.minimize(self.loss)"
   ]
  },
  {
   "cell_type": "code",
   "execution_count": 3,
   "metadata": {},
   "outputs": [],
   "source": [
    "def get_adj_matrix():\n",
    "    return np.array([\n",
    "        [0, 1, 0, 0, 0, 0, 0, 1],\n",
    "        [1, 0, 1, 0, 0, 0, 0, 0],\n",
    "        [0, 1, 0, 1, 0, 0, 0, 0],\n",
    "        [0, 0, 1, 0, 1, 0, 0, 0],\n",
    "        [0, 0, 0, 1, 0, 1, 0, 0],\n",
    "        [0, 0, 0, 0, 1, 0, 1, 0],\n",
    "        [0, 0, 0, 0, 0, 1, 0, 1],\n",
    "        [1, 0, 0, 0, 0, 0, 1, 0],\n",
    "    ])\n",
    "    \n",
    "# make DAD(normalization) matrix\n",
    "def normalize_matrix(adj_matrix):\n",
    "    a_tilda = adj_matrix + np.eye(adj_matrix.shape[0]) # A_ = A+I\n",
    "    d_tilda = np.diag(1 / np.sqrt(np.sum(a_tilda, axis=1))) # D_^(-1/2)\n",
    "    return np.matmul(np.matmul(d_tilda, a_tilda), d_tilda)"
   ]
  },
  {
   "cell_type": "code",
   "execution_count": 4,
   "metadata": {},
   "outputs": [],
   "source": [
    "def get_accuracy(true, pred):\n",
    "    '''\n",
    "    true: numpy array of shape (num_examples, num_nodes, num_classes)\n",
    "    pred: numpy array of shape (total_examples)\n",
    "    '''\n",
    "    \n",
    "    true = np.argmax(true, axis=2)\n",
    "    true = np.reshape(true, -1)\n",
    "    return np.mean(np.equal(true, pred).astype(np.float32))\n",
    "\n",
    "def get_f1_score(true, pred):\n",
    "    '''\n",
    "    true: numpy array of shape (num_examples, num_nodes, num_classes)\n",
    "    pred: numpy array of shape (total_examples)\n",
    "    \n",
    "    use 'weighted' parameter for sklearn.metrics.f1_score\n",
    "    https://datascience.stackexchange.com/questions/40900/whats-the-difference-between-sklearn-f1-score-micro-and-weighted-for-a-mult\n",
    "    '''\n",
    "    \n",
    "    true = np.argmax(true, axis=2)\n",
    "    true = np.reshape(true, -1)\n",
    "    return f1_score(true, pred, average='weighted')  "
   ]
  },
  {
   "cell_type": "code",
   "execution_count": 5,
   "metadata": {},
   "outputs": [],
   "source": [
    "# def train_model():\n",
    "#     epochs = 5\n",
    "#     normalized_adj = normalize_matrix(get_adj_matrix())\n",
    "#     frame_size = 40 # 5sec\n",
    "#     after = 80 # 10sec\n",
    "    \n",
    "#     # model\n",
    "#     model = GCN_WITH_LSTM(frame_size, normalized_adj)\n",
    "#     pred = model.pred\n",
    "#     loss = model.loss\n",
    "#     train_step = model.train_step\n",
    "    \n",
    "#     # load data\n",
    "#     x, y = get_window('./data/1234people_160000frame_simple', frame_size, after)\n",
    "#     y = to_categorical(y) # onehot encoding\n",
    "#     x = x[:5000, :, :, :]\n",
    "#     y = y[:5000, :, :]\n",
    "    \n",
    "#     # x.shape: (num_examples, num_nodes, frame_size, 8)\n",
    "#     # y.shape: (num_examples, num_nodes, num_classes)\n",
    "#     print('train_model shape:', x.shape, y.shape)\n",
    "    \n",
    "#     # train, valid, test split\n",
    "#     x_train, x_test, y_train, y_test = train_test_split(x, y, test_size=0.2, random_state=42)\n",
    "#     x_train, x_valid, y_train, y_valid = train_test_split(x_train, y_train, test_size=0.2, random_state=42)\n",
    "    \n",
    "#     print('train:', x_train.shape, y_train.shape)\n",
    "#     print('valid:', x_valid.shape, y_valid.shape)\n",
    "#     print('test:', x_test.shape, y_test.shape)\n",
    "    \n",
    "    \n",
    "#     # do not use cpu because of GPU memory error\n",
    "#     with tf.Session(config=tf.ConfigProto(device_count={'GPU': 0})) as sess:\n",
    "#         sess.run(tf.global_variables_initializer())\n",
    "        \n",
    "#         for epoch in range(epochs):\n",
    "\n",
    "#             num_iter_train = x_train.shape[0]\n",
    "#             num_iter_valid = x_valid.shape[0]\n",
    "#             loss_train = 0.0\n",
    "#             loss_valid = 0.0\n",
    "#             pred_train = [] # use python list for append performace\n",
    "#             pred_valid = [] # use python list for append performace\n",
    "#             # metric: accuracy, f1 score, \n",
    "#             # early stopping 기준: valid loss\n",
    "            \n",
    "#             # train set\n",
    "#             for i in tqdm(range(num_iter_train), desc='Train set'):\n",
    "#                 curr_x = x_train[i, :, :, :]\n",
    "#                 curr_y = y_train[i, :, :]\n",
    "#                 _loss, _pred, _ = sess.run([loss, pred, train_step], feed_dict={\n",
    "#                     model.x: curr_x,\n",
    "#                     model.y: curr_y,\n",
    "#                 })\n",
    "                \n",
    "#                 pred_train.extend(_pred.tolist())\n",
    "#                 loss_train += _loss\n",
    "                \n",
    "#             # valid set\n",
    "#             for i in tqdm(range(num_iter_valid), desc='Valid set'):\n",
    "#                 curr_x = x_valid[i, :, :, :]\n",
    "#                 curr_y = y_valid[i, :, :]\n",
    "#                 _loss, _pred = sess.run([loss, pred], feed_dict={\n",
    "#                     model.x: curr_x,\n",
    "#                     model.y: curr_y,\n",
    "#                 })\n",
    "                \n",
    "#                 pred_valid.extend(_pred.tolist())\n",
    "#                 loss_valid += _loss\n",
    "                \n",
    "#             loss_train = loss_train / num_iter_train\n",
    "#             acc_train = get_accuracy(y_train, np.array(pred_train))\n",
    "#             f1_train = get_f1_score(y_train, np.array(pred_train))\n",
    "#             loss_valid = loss_valid / num_iter_valid\n",
    "#             acc_valid = get_accuracy(y_valid, np.array(pred_valid))\n",
    "#             f1_valid = get_f1_score(y_valid, np.array(pred_valid))\n",
    "\n",
    "#             print('epoch: %3d, tr loss: %.3f, tr acc: %.3f, tr f1: %.3f, vd loss %.3f, vd acc: %.3f, vd f1: %.3f' %\n",
    "#                  (epoch, loss_train, acc_train, f1_train, loss_valid, acc_valid, f1_valid))\n",
    "        \n",
    "# train_model()"
   ]
  },
  {
   "cell_type": "code",
   "execution_count": null,
   "metadata": {},
   "outputs": [],
   "source": [
    "# set logger\n",
    "logger = logging.getLogger('gcn_with_lstm')\n",
    "logger.setLevel(logging.INFO)\n",
    "file_handler = logging.FileHandler(os.path.join('.', 'gcn_with_lstm.log'))\n",
    "logger.addHandler(file_handler)"
   ]
  },
  {
   "cell_type": "code",
   "execution_count": 6,
   "metadata": {},
   "outputs": [
    {
     "name": "stderr",
     "output_type": "stream",
     "text": [
      "\r",
      "Nodes:   0%|          | 0/8 [00:00<?, ?it/s]"
     ]
    },
    {
     "name": "stdout",
     "output_type": "stream",
     "text": [
      "start \"get_window(./data/1234people_160000frame_simple, 40, 80, 8)\"...\n",
      "start \"load_data(./data/1234people_160000frame_simple, 8)\"...\n"
     ]
    },
    {
     "name": "stderr",
     "output_type": "stream",
     "text": [
      "Nodes: 100%|██████████| 8/8 [00:13<00:00,  1.62s/it]\n",
      "Total frame:   0%|          | 0/159881 [00:00<?, ?it/s]"
     ]
    },
    {
     "name": "stdout",
     "output_type": "stream",
     "text": [
      "end \"load_data(./data/1234people_160000frame_simple, 8)\"!\n"
     ]
    },
    {
     "name": "stderr",
     "output_type": "stream",
     "text": [
      "Total frame: 100%|██████████| 159881/159881 [01:15<00:00, 2106.06it/s]\n"
     ]
    },
    {
     "name": "stdout",
     "output_type": "stream",
     "text": [
      "end \"get_window(./data/1234people_160000frame_simple, 40, 80, 8)\"!\n",
      "train_model shape: (159881, 8, 40, 8) (159881, 8, 4)\n",
      "train: (102323, 8, 40, 8) (102323, 8, 4)\n",
      "valid: (25581, 8, 40, 8) (25581, 8, 4)\n",
      "test: (31977, 8, 40, 8) (31977, 8, 4)\n"
     ]
    }
   ],
   "source": [
    "epochs = 100\n",
    "normalized_adj = normalize_matrix(get_adj_matrix())\n",
    "frame_size = 40 # 5sec\n",
    "after = 80 # 10sec\n",
    "\n",
    "# model\n",
    "model = GCN_WITH_LSTM(frame_size, normalized_adj)\n",
    "pred = model.pred\n",
    "loss = model.loss\n",
    "train_step = model.train_step\n",
    "\n",
    "# load data\n",
    "x, y = get_window('./data/1234people_160000frame_simple', frame_size, after)\n",
    "y = to_categorical(y) # onehot encoding\n",
    "\n",
    "# x.shape: (num_examples, num_nodes, frame_size, 8)\n",
    "# y.shape: (num_examples, num_nodes, num_classes)\n",
    "print('train_model shape:', x.shape, y.shape)\n",
    "\n",
    "# train, valid, test split\n",
    "x_train, x_test, y_train, y_test = train_test_split(x, y, test_size=0.2, random_state=42)\n",
    "x_train, x_valid, y_train, y_valid = train_test_split(x_train, y_train, test_size=0.2, random_state=42)\n",
    "\n",
    "print('train:', x_train.shape, y_train.shape)\n",
    "print('valid:', x_valid.shape, y_valid.shape)\n",
    "print('test:', x_test.shape, y_test.shape)"
   ]
  },
  {
   "cell_type": "code",
   "execution_count": null,
   "metadata": {},
   "outputs": [],
   "source": [
    "# do not use cpu because of GPU memory error\n",
    "sess = tf.Session(config=tf.ConfigProto(device_count={'GPU': 0}))\n",
    "saver = tf.train.Saver()\n",
    "sess.run(tf.global_variables_initializer())"
   ]
  },
  {
   "cell_type": "code",
   "execution_count": null,
   "metadata": {},
   "outputs": [],
   "source": [
    "for epoch in range(epochs):\n",
    "    t1 = time.time()\n",
    "    num_iter_train = x_train.shape[0]\n",
    "    num_iter_valid = x_valid.shape[0]\n",
    "    loss_train = 0.0\n",
    "    loss_valid = 0.0\n",
    "    pred_train = [] # use python list for append performace\n",
    "    pred_valid = [] # use python list for append performace\n",
    "    # metric: accuracy, f1 score, \n",
    "    # early stopping 기준: valid loss\n",
    "\n",
    "    # train set\n",
    "#     for i in range(num_iter_train):\n",
    "    for i in tqdm(range(num_iter_train), desc='Train set'):\n",
    "        curr_x = x_train[i, :, :, :]\n",
    "        curr_y = y_train[i, :, :]\n",
    "        _loss, _pred, _ = sess.run([loss, pred, train_step], feed_dict={\n",
    "            model.x: curr_x,\n",
    "            model.y: curr_y,\n",
    "        })\n",
    "\n",
    "        pred_train.extend(_pred.tolist())\n",
    "        loss_train += _loss\n",
    "\n",
    "    # valid set\n",
    "#     for i in range(num_iter_valid):\n",
    "    for i in tqdm(range(num_iter_valid), desc='Valid set'):\n",
    "        curr_x = x_valid[i, :, :, :]\n",
    "        curr_y = y_valid[i, :, :]\n",
    "        _loss, _pred = sess.run([loss, pred], feed_dict={\n",
    "            model.x: curr_x,\n",
    "            model.y: curr_y,\n",
    "        })\n",
    "\n",
    "        pred_valid.extend(_pred.tolist())\n",
    "        loss_valid += _loss\n",
    "\n",
    "    loss_train = loss_train / num_iter_train\n",
    "    acc_train = get_accuracy(y_train, np.array(pred_train))\n",
    "    f1_train = get_f1_score(y_train, np.array(pred_train))\n",
    "    loss_valid = loss_valid / num_iter_valid\n",
    "    acc_valid = get_accuracy(y_valid, np.array(pred_valid))\n",
    "    f1_valid = get_f1_score(y_valid, np.array(pred_valid))\n",
    "\n",
    "    t2 = time.time()\n",
    "    \n",
    "    saver.save(sess, \"checkpoint/train\", epoch)\n",
    "    logger.info('epoch: %3d, elapsed: %3d, tr loss: %.3f, tr acc: %.3f, tr f1: %.3f, vd loss %.3f, vd acc: %.3f, vd f1: %.3f' %\n",
    "         (epoch, t2-t1, loss_train, acc_train, f1_train, loss_valid, acc_valid, f1_valid))\n",
    "    print('epoch: %3d, elapsed: %3d, tr loss: %.3f, tr acc: %.3f, tr f1: %.3f, vd loss %.3f, vd acc: %.3f, vd f1: %.3f' %\n",
    "         (epoch, t2-t1, loss_train, acc_train, f1_train, loss_valid, acc_valid, f1_valid))"
   ]
  },
  {
   "cell_type": "code",
   "execution_count": 16,
   "metadata": {},
   "outputs": [],
   "source": [
    "# test set performance\n",
    "from preprocess import pick_index\n",
    "index = pick_index(y_test)"
   ]
  },
  {
   "cell_type": "code",
   "execution_count": 32,
   "metadata": {},
   "outputs": [
    {
     "name": "stdout",
     "output_type": "stream",
     "text": [
      "INFO:tensorflow:Restoring parameters from checkpoint/train-27\n"
     ]
    }
   ],
   "source": [
    "sess = tf.Session(config=tf.ConfigProto(device_count={'GPU': 0}))\n",
    "saver = tf.train.Saver()\n",
    "\n",
    "sess.run(tf.global_variables_initializer())\n",
    "ckpt_path = saver.restore(sess, \"checkpoint/train-27\")"
   ]
  },
  {
   "cell_type": "code",
   "execution_count": 50,
   "metadata": {},
   "outputs": [
    {
     "name": "stderr",
     "output_type": "stream",
     "text": [
      "100%|██████████| 1563/1563 [00:05<00:00, 289.34it/s]\n"
     ]
    }
   ],
   "source": [
    "loss_test = 0.0\n",
    "pred_test = []\n",
    "true_test = []\n",
    "num_iter_test = index.shape[0]\n",
    "# 전체 y_test가 아니라 index를 이용한 특정 구간에서만 test\n",
    "for i in tqdm(range(num_iter_test)):\n",
    "    t, n = index[i]\n",
    "    curr_x = x_test[t, :, :, :]\n",
    "    curr_y = y_test[t, :, :]\n",
    "    _loss, _pred = sess.run([loss, pred], feed_dict={\n",
    "        model.x: curr_x,\n",
    "        model.y: curr_y,\n",
    "    })\n",
    "\n",
    "    pred_test.append(_pred[n])\n",
    "    true_test.append(y_test[t, n])\n",
    "    loss_test += _loss\n"
   ]
  },
  {
   "cell_type": "code",
   "execution_count": 51,
   "metadata": {},
   "outputs": [],
   "source": [
    "true_test = np.argmax(np.array(true_test), axis=1)\n",
    "pred_test = np.array(pred_test)"
   ]
  },
  {
   "cell_type": "code",
   "execution_count": 57,
   "metadata": {},
   "outputs": [
    {
     "data": {
      "text/plain": [
       "array([ True,  True,  True, ..., False, False, False])"
      ]
     },
     "execution_count": 57,
     "metadata": {},
     "output_type": "execute_result"
    }
   ],
   "source": [
    "np.equal(true_test, pred_test)"
   ]
  },
  {
   "cell_type": "code",
   "execution_count": 58,
   "metadata": {},
   "outputs": [
    {
     "name": "stdout",
     "output_type": "stream",
     "text": [
      "loss: 0.531, acc: 0.324, f1: 0.164\n"
     ]
    }
   ],
   "source": [
    "print('loss: %.3f, acc: %.3f, f1: %.3f' % (loss_test/num_iter_test, test_acc, test_f1))"
   ]
  },
  {
   "cell_type": "code",
   "execution_count": 59,
   "metadata": {},
   "outputs": [],
   "source": [
    "import seaborn as sns\n",
    "import matplotlib.pyplot as plt     \n",
    "from sklearn.metrics import confusion_matrix"
   ]
  },
  {
   "cell_type": "code",
   "execution_count": 60,
   "metadata": {},
   "outputs": [],
   "source": [
    "cm = confusion_matrix(true_test, pred_test)"
   ]
  },
  {
   "cell_type": "code",
   "execution_count": 61,
   "metadata": {},
   "outputs": [
    {
     "data": {
      "image/png": "[encoded data removed]",
      "text/plain": [
       "<Figure size 432x288 with 2 Axes>"
      ]
     },
     "metadata": {
      "needs_background": "light"
     },
     "output_type": "display_data"
    }
   ],
   "source": [
    "ax= plt.subplot()\n",
    "sns.heatmap(cm, annot=True, ax = ax); #annot=True to annotate cells\n",
    "\n",
    "# labels, title and ticks\n",
    "ax.set_xlabel('Predicted labels');ax.set_ylabel('True labels'); \n",
    "ax.set_title('Confusion Matrix'); "
   ]
  },
  {
   "cell_type": "code",
   "execution_count": null,
   "metadata": {},
   "outputs": [],
   "source": []
  }
 ],
 "metadata": {
  "kernelspec": {
   "display_name": "Python 3",
   "language": "python",
   "name": "python3"
  },
  "language_info": {
   "codemirror_mode": {
    "name": "ipython",
    "version": 3
   },
   "file_extension": ".py",
   "mimetype": "text/x-python",
   "name": "python",
   "nbconvert_exporter": "python",
   "pygments_lexer": "ipython3",
   "version": "3.5.4"
  }
 },
 "nbformat": 4,
 "nbformat_minor": 2
}
