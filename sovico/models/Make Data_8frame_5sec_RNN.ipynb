{
 "cells": [
  {
   "cell_type": "markdown",
   "metadata": {},
   "source": [
    "# Basic CNN Model"
   ]
  },
  {
   "cell_type": "markdown",
   "metadata": {},
   "source": [
    "## (1) Data Processing"
   ]
  },
  {
   "cell_type": "markdown",
   "metadata": {},
   "source": [
    "- Num: 100\n",
    "- Map: 직선 도로 (센서 2, 4, 6, 8번 위치)\n",
    "- 처음 데이터 받을 때 모든 센서와 pop의 데이터를 붙여 버리면 시작, 끝 부분에서 이상하게 데이터가 만들어질 수 있으므로\n",
    "각각 8x8xn 이미지를 만든 후에 해당 데이터를 랜덤하게 섞어서 사용한다."
   ]
  },
  {
   "cell_type": "code",
   "execution_count": 3,
   "metadata": {},
   "outputs": [
    {
     "data": {
      "text/plain": [
       "'/home/chominyong/sovico_180624'"
      ]
     },
     "execution_count": 3,
     "metadata": {},
     "output_type": "execute_result"
    }
   ],
   "source": [
    "import numpy as np\n",
    "import pickle\n",
    "import os\n",
    "\n",
    "os.getcwd()"
   ]
  },
  {
   "cell_type": "code",
   "execution_count": 4,
   "metadata": {},
   "outputs": [
    {
     "name": "stdout",
     "output_type": "stream",
     "text": [
      "/home/chominyong/sovico_180624/8frame/SensorData/sensorData_2.txt\n",
      "data_100_0 (160000, 9)\n",
      "/home/chominyong/sovico_180624/8frame/SensorData/sensorData_4.txt\n",
      "data_100_1 (160000, 9)\n",
      "/home/chominyong/sovico_180624/8frame/SensorData/sensorData_6.txt\n",
      "data_100_2 (160000, 9)\n",
      "/home/chominyong/sovico_180624/8frame/SensorData/sensorData_8.txt\n",
      "data_100_3 (160000, 9)\n"
     ]
    }
   ],
   "source": [
    "data_100={}\n",
    "for x in range(4):\n",
    "    loc = \"/home/chominyong/sovico_180624/8frame/SensorData/sensorData_\" + str(2*(x+1)) + \".txt\"\n",
    "    print(loc)\n",
    "    data_100[\"data_100_{0}\".format(x)] = np.loadtxt(loc,delimiter=',')\n",
    "    print(\"data_100_{0}\".format(x), data_100[\"data_100_{0}\".format(x)].shape)"
   ]
  },
  {
   "cell_type": "code",
   "execution_count": 5,
   "metadata": {},
   "outputs": [],
   "source": [
    "X_100 = {}\n",
    "Y_100 = {}\n",
    "\n",
    "for x in range(4):\n",
    "    split_data = np.hsplit(data_100[\"data_100_{0}\".format(x)], np.array([1, 9]))\n",
    "    Y_100[\"Y_100_{0}\".format(x)] = split_data[0]\n",
    "    X_100[\"X_100_{0}\".format(x)] = split_data[1]"
   ]
  },
  {
   "cell_type": "markdown",
   "metadata": {},
   "source": [
    "### 40x8 데이터로 만들기"
   ]
  },
  {
   "cell_type": "code",
   "execution_count": 6,
   "metadata": {},
   "outputs": [
    {
     "name": "stdout",
     "output_type": "stream",
     "text": [
      "data_length_100 160000\n"
     ]
    }
   ],
   "source": [
    "data_length_100 = len(X_100[\"X_100_0\"])\n",
    "print(\"data_length_100\", data_length_100)"
   ]
  },
  {
   "cell_type": "code",
   "execution_count": 7,
   "metadata": {},
   "outputs": [],
   "source": [
    "NUM_FREQ = 40"
   ]
  },
  {
   "cell_type": "code",
   "execution_count": 8,
   "metadata": {},
   "outputs": [
    {
     "data": {
      "text/plain": [
       "(159961, 40, 8)"
      ]
     },
     "execution_count": 8,
     "metadata": {},
     "output_type": "execute_result"
    }
   ],
   "source": [
    "t = np.zeros((data_length_100-NUM_FREQ+1, NUM_FREQ, 8))\n",
    "t.shape"
   ]
  },
  {
   "cell_type": "markdown",
   "metadata": {},
   "source": [
    "#### - Y Label 지정 ( 가장 최신 )"
   ]
  },
  {
   "cell_type": "code",
   "execution_count": 9,
   "metadata": {},
   "outputs": [],
   "source": [
    "X_100_image = {}\n",
    "Y_100_recent = {}\n",
    "#Y_100_mid = {}\n",
    "\n",
    "for t in range(4):\n",
    "    X_100_image[t] = np.zeros((data_length_100-NUM_FREQ+1, NUM_FREQ, 8))\n",
    "    Y_100_recent[t] = np.zeros(data_length_100-NUM_FREQ+1)\n",
    "#    Y_100_mid[t] = np.zeros(data_length_100-7)\n",
    "    for i in range(data_length_100 - NUM_FREQ+1):\n",
    "        for j in range(NUM_FREQ):\n",
    "            X_100_image[t][i][j][:] = X_100[\"X_100_{0}\".format(t)][i+j][:]\n",
    "           \n",
    "        if Y_100[\"Y_100_{0}\".format(t)][i+j] >= 9:\n",
    "            Y_100_recent[t][i] = 9\n",
    "        else:\n",
    "            Y_100_recent[t][i] = Y_100[\"Y_100_{0}\".format(t)][i+j]\n",
    "        \n",
    "#         if Y_100[\"Y_100_{0}\".format(t)][i+3] >= 9:\n",
    "#             Y_100_mid[t][i] = 9\n",
    "#         else:\n",
    "#             Y_100_mid[t][i] = Y_100[\"Y_100_{0}\".format(t)][i+3]\n",
    "\n",
    "\n",
    "        \n"
   ]
  },
  {
   "cell_type": "code",
   "execution_count": 10,
   "metadata": {},
   "outputs": [
    {
     "data": {
      "text/plain": [
       "(159961, 40, 8)"
      ]
     },
     "execution_count": 10,
     "metadata": {},
     "output_type": "execute_result"
    }
   ],
   "source": [
    "X_100_image[0].shape"
   ]
  },
  {
   "cell_type": "markdown",
   "metadata": {},
   "source": [
    "#### 40 by 8 by 1 data"
   ]
  },
  {
   "cell_type": "code",
   "execution_count": 11,
   "metadata": {},
   "outputs": [
    {
     "name": "stdout",
     "output_type": "stream",
     "text": [
      "(4, 159961, 40, 8)\n",
      "(4, 159961)\n"
     ]
    }
   ],
   "source": [
    "X_100_values = np.array(list(X_100_image.values()))\n",
    "Y_100_values = np.array(list(Y_100_recent.values()))\n",
    "print(X_100_values.shape)\n",
    "print(Y_100_values.shape)\n",
    "#values"
   ]
  },
  {
   "cell_type": "code",
   "execution_count": null,
   "metadata": {},
   "outputs": [],
   "source": [
    "t = X_100_values.shape\n",
    "N = t[0]*t[1]\n",
    "X_modified_100_8_1 = np.zeros((N, t[2], t[3]))\n",
    "Y_100_8_1 = np.zeros((N))\n",
    "for i in range(t[0]):\n",
    "    for j in range(t[1]):\n",
    "        X_modified_100_8_1[i*t[1]+j] = X_100_values[i][j]\n",
    "        Y_100_8_1[i*t[1]+j] = Y_100_values[i][j]"
   ]
  },
  {
   "cell_type": "code",
   "execution_count": null,
   "metadata": {},
   "outputs": [
    {
     "name": "stdout",
     "output_type": "stream",
     "text": [
      "3.0\n"
     ]
    }
   ],
   "source": [
    "Y_4 = np.zeros(N)\n",
    "\n",
    "for i in range(N):\n",
    "    if Y_100_8_1[i] == 0 :\n",
    "        Y_4[i] = 0\n",
    "    elif Y_100_8_1[i] >= 1 and Y_100_8_1[i] <= 3 :\n",
    "        Y_4[i] = 1\n",
    "    elif Y_100_8_1[i] >= 4 and Y_100_8_1[i] <= 6 :\n",
    "        Y_4[i] = 2\n",
    "    elif Y_100_8_1[i] >= 7:\n",
    "        Y_4[i] = 3\n",
    "\n",
    "print(max(Y_4))"
   ]
  },
  {
   "cell_type": "code",
   "execution_count": null,
   "metadata": {},
   "outputs": [
    {
     "name": "stdout",
     "output_type": "stream",
     "text": [
      "(639844, 40, 8)\n"
     ]
    }
   ],
   "source": [
    "print(X_modified_100_8_1.shape)"
   ]
  },
  {
   "cell_type": "code",
   "execution_count": null,
   "metadata": {},
   "outputs": [
    {
     "name": "stdout",
     "output_type": "stream",
     "text": [
      "4 labels: 0 443695\n",
      "4 labels: 1 147174\n",
      "4 labels: 2 43532\n",
      "4 labels: 3 5443\n"
     ]
    }
   ],
   "source": [
    "for i in range(4):\n",
    "    print(\"4 labels:\",i, sum( Y_4== i ))"
   ]
  },
  {
   "cell_type": "code",
   "execution_count": null,
   "metadata": {},
   "outputs": [],
   "source": [
    "what_is_the_least_frequency_label=3"
   ]
  },
  {
   "cell_type": "code",
   "execution_count": null,
   "metadata": {},
   "outputs": [
    {
     "name": "stdout",
     "output_type": "stream",
     "text": [
      "5443\n"
     ]
    }
   ],
   "source": [
    "min_label_count_4 = sum(Y_4==3)\n",
    "print(min_label_count_4)"
   ]
  },
  {
   "cell_type": "code",
   "execution_count": null,
   "metadata": {},
   "outputs": [
    {
     "name": "stdout",
     "output_type": "stream",
     "text": [
      "(21772, 40, 8)\n",
      "(21772,)\n"
     ]
    }
   ],
   "source": [
    "X_balanced_4 = X_modified_100_8_1[Y_4==0][:min_label_count_4]\n",
    "Y_balanced_4 = Y_4[Y_4==0][:min_label_count_4]\n",
    "for i in range(1,4):    \n",
    "    X_balanced_4 = np.concatenate((X_balanced_4,X_modified_100_8_1[Y_4==i][:min_label_count_4]))\n",
    "    Y_balanced_4 = np.concatenate((Y_balanced_4,Y_4[Y_4==i][:min_label_count_4]))\n",
    "print(X_balanced_4.shape)\n",
    "print(Y_balanced_4.shape)"
   ]
  },
  {
   "cell_type": "code",
   "execution_count": null,
   "metadata": {},
   "outputs": [
    {
     "name": "stdout",
     "output_type": "stream",
     "text": [
      "[ 3  9  5 10  2  7  8  4  1  6]\n"
     ]
    }
   ],
   "source": [
    "a = np.array([1, 2, 3, 4, 5, 6, 7, 8, 9, 10])\n",
    "\n",
    "np.random.seed(0)\n",
    "print(np.random.permutation(a))"
   ]
  },
  {
   "cell_type": "code",
   "execution_count": null,
   "metadata": {},
   "outputs": [],
   "source": [
    "np.random.seed(0)\n",
    "X_balanced_4 = np.random.permutation(X_balanced_4)\n",
    "np.random.seed(0)\n",
    "Y_balanced_4 = np.random.permutation(Y_balanced_4)"
   ]
  },
  {
   "cell_type": "code",
   "execution_count": null,
   "metadata": {
    "scrolled": true
   },
   "outputs": [
    {
     "data": {
      "text/plain": [
       "array([[0., 0., 0., 1.],\n",
       "       [0., 0., 1., 0.],\n",
       "       [0., 0., 1., 0.],\n",
       "       ...,\n",
       "       [0., 1., 0., 0.],\n",
       "       [0., 1., 0., 0.],\n",
       "       [1., 0., 0., 0.]])"
      ]
     },
     "execution_count": 21,
     "metadata": {},
     "output_type": "execute_result"
    }
   ],
   "source": [
    "Y_balanced_4 = np.eye(4)[Y_balanced_4.astype(int)]\n",
    "Y_balanced_4"
   ]
  },
  {
   "cell_type": "code",
   "execution_count": null,
   "metadata": {},
   "outputs": [
    {
     "data": {
      "text/plain": [
       "(21772, 4)"
      ]
     },
     "execution_count": 22,
     "metadata": {},
     "output_type": "execute_result"
    }
   ],
   "source": [
    "Y_balanced_4.shape"
   ]
  },
  {
   "cell_type": "code",
   "execution_count": null,
   "metadata": {
    "scrolled": true
   },
   "outputs": [
    {
     "name": "stdout",
     "output_type": "stream",
     "text": [
      "total N, num_train 21772 17417\n",
      "X_train (17417, 40, 8)\n",
      "X_val (4355, 40, 8)\n",
      "Y_train (17417, 4)\n",
      "Y_val (4355, 4)\n"
     ]
    }
   ],
   "source": [
    "NN=X_balanced_4.shape[0]\n",
    "num_train_balanced_4 = int(NN * .8)\n",
    "print(\"total N, num_train\",NN, num_train_balanced_4)\n",
    "\n",
    "X_balanced_4_train = X_balanced_4[:num_train_balanced_4]\n",
    "Y_balanced_4_train = Y_balanced_4[:num_train_balanced_4].astype(int)\n",
    "X_balanced_4_test = X_balanced_4[num_train_balanced_4:]\n",
    "Y_balanced_4_test = Y_balanced_4[num_train_balanced_4:].astype(int)\n",
    "print(\"X_train\", X_balanced_4_train.shape)\n",
    "print(\"X_val\", X_balanced_4_test.shape)\n",
    "print(\"Y_train\", Y_balanced_4_train.shape)\n",
    "print(\"Y_val\", Y_balanced_4_test.shape)"
   ]
  },
  {
   "cell_type": "code",
   "execution_count": null,
   "metadata": {
    "scrolled": false
   },
   "outputs": [
    {
     "name": "stderr",
     "output_type": "stream",
     "text": [
      "Using TensorFlow backend.\n"
     ]
    },
    {
     "name": "stdout",
     "output_type": "stream",
     "text": [
      "Epoch 1/5\n",
      "17417/17417 [==============================] - 113s 6ms/step - loss: 0.7216 - acc: 0.6828\n",
      "Epoch 2/5\n",
      "17417/17417 [==============================] - 111s 6ms/step - loss: 0.5323 - acc: 0.7845\n",
      "Epoch 3/5\n",
      "17417/17417 [==============================] - 111s 6ms/step - loss: 0.5055 - acc: 0.7936\n",
      "Epoch 4/5\n",
      "17417/17417 [==============================] - 111s 6ms/step - loss: 0.4878 - acc: 0.8040\n",
      "Epoch 5/5\n",
      "13952/17417 [=======================>......] - ETA: 21s - loss: 0.4698 - acc: 0.8121"
     ]
    }
   ],
   "source": [
    "from keras.models import Sequential\n",
    "from keras.layers import LSTM, Dense\n",
    "import numpy as np\n",
    "import keras.backend.tensorflow_backend as K\n",
    "\n",
    "timesteps = 40\n",
    "data_dim = 8\n",
    "num_classes = 4\n",
    "\n",
    "# expected input data shape: (batch_size, timesteps, data_dim)\n",
    "model = Sequential()\n",
    "model.add(LSTM(32, return_sequences=True,\n",
    "               input_shape=(timesteps, data_dim)))  # returns a sequence of vectors of dimension 32\n",
    "model.add(LSTM(32, return_sequences=True))  # returns a sequence of vectors of dimension 32\n",
    "model.add(LSTM(32))  # return a single vector of dimension 32\n",
    "model.add(Dense(4, activation='softmax'))\n",
    "\n",
    "model.compile(loss='categorical_crossentropy',\n",
    "              optimizer='adam',\n",
    "              metrics=['accuracy'])\n",
    "model.fit(X_balanced_4_train, Y_balanced_4_train, epochs=5, batch_size=32)\n",
    "model.evaluate(X_balanced_4_test, Y_balanced_4_test, batch_size=128)"
   ]
  },
  {
   "cell_type": "code",
   "execution_count": null,
   "metadata": {
    "scrolled": true
   },
   "outputs": [],
   "source": [
    "model.fit(X_balanced_4_train, Y_balanced_4_train, epochs=5, batch_size=32)\n",
    "model.evaluate(X_balanced_4_test, Y_balanced_4_test, batch_size=128)"
   ]
  },
  {
   "cell_type": "code",
   "execution_count": null,
   "metadata": {},
   "outputs": [],
   "source": [
    "model.fit(X_balanced_4_train, Y_balanced_4_train, epochs=2, batch_size=32)\n",
    "model.evaluate(X_balanced_4_test, Y_balanced_4_test, batch_size=128)"
   ]
  },
  {
   "cell_type": "code",
   "execution_count": null,
   "metadata": {},
   "outputs": [],
   "source": [
    "model.fit(X_balanced_4_train, Y_balanced_4_train, epochs=2, batch_size=32)\n",
    "model.evaluate(X_balanced_4_test, Y_balanced_4_test, batch_size=128)"
   ]
  },
  {
   "cell_type": "code",
   "execution_count": null,
   "metadata": {
    "scrolled": true
   },
   "outputs": [],
   "source": [
    "model.fit(X_balanced_4_train, Y_balanced_4_train, epochs=2, batch_size=32)\n",
    "model.evaluate(X_balanced_4_test, Y_balanced_4_test, batch_size=128)"
   ]
  },
  {
   "cell_type": "code",
   "execution_count": null,
   "metadata": {},
   "outputs": [],
   "source": [
    "# with open('X_sim.pickle', 'rb') as handle:\n",
    "#     X_test = pickle.load(handle)\n",
    "# with open('Y_sim.pickle', 'rb') as handle:\n",
    "#     Y_test = pickle.load(handle)\n",
    "\n",
    "# model.evaluate(X_test, Y_test, batch_size=128)"
   ]
  },
  {
   "cell_type": "code",
   "execution_count": null,
   "metadata": {},
   "outputs": [],
   "source": []
  },
  {
   "cell_type": "code",
   "execution_count": null,
   "metadata": {},
   "outputs": [],
   "source": []
  }
 ],
 "metadata": {
  "anaconda-cloud": {},
  "kernelspec": {
   "display_name": "Python 3",
   "language": "python",
   "name": "python3"
  },
  "language_info": {
   "codemirror_mode": {
    "name": "ipython",
    "version": 3
   },
   "file_extension": ".py",
   "mimetype": "text/x-python",
   "name": "python",
   "nbconvert_exporter": "python",
   "pygments_lexer": "ipython3",
   "version": "3.5.4"
  }
 },
 "nbformat": 4,
 "nbformat_minor": 1
}
