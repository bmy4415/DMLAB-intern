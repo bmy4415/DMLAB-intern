{
 "cells": [
  {
   "cell_type": "code",
   "execution_count": null,
   "metadata": {
    "scrolled": false
   },
   "outputs": [],
   "source": [
    "import tensorflow as tf\n",
    "import numpy as np"
   ]
  },
  {
   "cell_type": "code",
   "execution_count": null,
   "metadata": {},
   "outputs": [],
   "source": [
    "def get_adj_matrix():\n",
    "    \"\"\"\n",
    "    Real map of 301 building\n",
    "    \"\"\"\n",
    "    arr = [\n",
    "        [0, 1, 0, 0],\n",
    "        [1, 0, 1, 0],\n",
    "        [0, 1, 0, 1],\n",
    "        [0, 0, 1, 0],\n",
    "    ]\n",
    "        \n",
    "    return arr\n",
    "\n",
    "def normalize_matrix(adj_matrix):\n",
    "    '''\n",
    "    return numpy array which represents normalized matrix, D^(-1/2) A D^(-1/2)\n",
    "    '''\n",
    "    ahat = np.array(adj_matrix) + np.eye(len(adj_matrix))\n",
    "    dhat_prime = np.diag(1 / np.sqrt(np.sum(ahat, axis=1)))\n",
    "    return np.matmul(np.matmul(dhat_prime, ahat), dhat_prime)\n",
    "\n",
    "class GCN():\n",
    "    '''\n",
    "    2-layer graph convolutional network\n",
    "    '''\n",
    "    \n",
    "    def __init__(self, input_dim, adj_matrix, gcn_hiddens):\n",
    "        '''\n",
    "        GCN constructor\n",
    "        propagation rule: h' = ADA * h * w\n",
    "        \n",
    "        :param: input_dim int length of node's feature\n",
    "        :param: adj_matrix NxN adjacent matrix with N nodes\n",
    "        :param: gcn_hiddens list of length 2 which denotes neruons in each layer\n",
    "        '''\n",
    "\n",
    "        self.input_dim = input_dim\n",
    "        N = len(adj_matrix) # number of nodes in graph\n",
    "        normalized_matrix = normalize_matrix(adj_matrix)\n",
    "        self.normalized_matrix = tf.constant(normalized_matrix, tf.float32)\n",
    "        \n",
    "        num_classes = 4\n",
    "        init = tf.initializers.he_normal()\n",
    "        \n",
    "        # placeholders\n",
    "        self.x = tf.placeholder(tf.float32, [N, input_dim])\n",
    "        self.y = tf.placeholder(tf.float32, [N, num_classes])\n",
    "        self.mask = tf.placeholder(tf.float32, [N])\n",
    "        \n",
    "        # first layer\n",
    "        self.W1 = tf.Variable(init([input_dim, gcn_hiddens[0]]))\n",
    "        self.L1 = tf.matmul(self.normalized_matrix, self.x) # shape: (N, input_dim)\n",
    "        self.L1 = tf.matmul(self.L1, self.W1) # shape: (N, gcn_hiddens[0])\n",
    "        self.L1 = tf.nn.tanh(self.L1)\n",
    "\n",
    "        # second layer\n",
    "        self.W2 = tf.Variable(init([gcn_hiddens[0], gcn_hiddens[1]]))\n",
    "        self.L2 = tf.matmul(self.normalized_matrix, self.L1) # shape: (N, gcn_hiddens[0])\n",
    "        self.L2 = tf.matmul(self.L2, self.W2) # shape: (N, gcn_hiddens[1])\n",
    "        self.L2 = tf.nn.relu(self.L2)\n",
    "        \n",
    "        # last layer\n",
    "        self.W3 = tf.Variable(init([gcn_hiddens[1], num_classes]))\n",
    "        self.L3 = tf.matmul(self.L2, self.W3) # shape: (N, num_classes)\n",
    "        \n",
    "        # loss\n",
    "        self.loss = tf.nn.softmax_cross_entropy_with_logits_v2(logits=self.L3, labels=self.y)\n",
    "        self.loss = self.loss * self.mask # apply mask\n",
    "        self.loss = tf.reduce_mean(self.loss)\n",
    "        \n",
    "        # prediction\n",
    "        self.pred = tf.argmax(self.L3, axis=1)"
   ]
  },
  {
   "cell_type": "code",
   "execution_count": null,
   "metadata": {},
   "outputs": [],
   "source": [
    "def predict_future_people(X):\n",
    "    '''\n",
    "    :param: numpy array of shape: (NUM_NODES=4, input_dim=WINDOW_SIZE*8)\n",
    "    :return: numpy array of shape: (NUM_NODES,) which represents label of each nodes\n",
    "    '''\n",
    "    \n",
    "    result = sess.run(model.pred, feed_dict={\n",
    "        model.x: X,\n",
    "    })\n",
    "    \n",
    "    print('result:', result)\n",
    "    \n",
    "    return result"
   ]
  },
  {
   "cell_type": "code",
   "execution_count": null,
   "metadata": {
    "scrolled": false
   },
   "outputs": [],
   "source": [
    "# load model\n",
    "\n",
    "adj_matrix = get_adj_matrix()\n",
    "window_size = 8\n",
    "input_dim = window_size * 8\n",
    "gcn_hiddens = [64, 64]\n",
    "\n",
    "model = GCN(input_dim, adj_matrix, gcn_hiddens)\n",
    "sess = tf.Session()\n",
    "sess.run(tf.global_variables_initializer())\n",
    "saver = tf.train.Saver()\n",
    "saver.restore(sess, 'model')"
   ]
  },
  {
   "cell_type": "code",
   "execution_count": null,
   "metadata": {},
   "outputs": [],
   "source": []
  }
 ],
 "metadata": {
  "kernelspec": {
   "display_name": "Python 3",
   "language": "python",
   "name": "python3"
  },
  "language_info": {
   "codemirror_mode": {
    "name": "ipython",
    "version": 3
   },
   "file_extension": ".py",
   "mimetype": "text/x-python",
   "name": "python",
   "nbconvert_exporter": "python",
   "pygments_lexer": "ipython3",
   "version": "3.5.4"
  }
 },
 "nbformat": 4,
 "nbformat_minor": 2
}
