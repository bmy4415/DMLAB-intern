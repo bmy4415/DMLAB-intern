{
 "cells": [
  {
   "cell_type": "code",
   "execution_count": 1,
   "metadata": {},
   "outputs": [
    {
     "name": "stderr",
     "output_type": "stream",
     "text": [
      "Using TensorFlow backend.\n"
     ]
    }
   ],
   "source": [
    "import os\n",
    "import tensorflow as tf\n",
    "import numpy as np\n",
    "from tqdm import tqdm_notebook as tqdm\n",
    "from keras.utils import to_categorical\n",
    "from sklearn.model_selection import train_test_split"
   ]
  },
  {
   "cell_type": "code",
   "execution_count": 2,
   "metadata": {},
   "outputs": [],
   "source": [
    "def get_adj_matrix():\n",
    "    \"\"\"\n",
    "    Return current graph topology.\n",
    "    Adjacent matrix will be used at GCN later\n",
    "\n",
    "    :return: current graph topology of 301 building 5th floor.\n",
    "    ex) return =\n",
    "    [[0, 1, 0, 0, 0, 0, 0, 1],\n",
    "     [1, 0, 1, 0, 0, 0, 0, 0],\n",
    "     [0, 1, 0, 1, 0, 0, 0, 0],\n",
    "     [0, 0, 1, 0, 1, 0, 0, 0],\n",
    "     [0, 0, 0, 1, 0, 1, 0, 0],\n",
    "     [0, 0, 0, 0, 1, 0, 1, 0],\n",
    "     [0, 0, 0, 0, 0, 1, 0, 1],\n",
    "     [1, 0, 0, 0, 0, 0, 1, 0]]\n",
    "    \"\"\"\n",
    "\n",
    "    arr = [[0]*8 for x in range(8)]\n",
    "    for i in range(8):\n",
    "        before, after = (i-1)%8, (i+1)%8\n",
    "        arr[i][before] = 1\n",
    "        arr[i][after] = 1\n",
    "        \n",
    "    return arr"
   ]
  },
  {
   "cell_type": "code",
   "execution_count": 77,
   "metadata": {},
   "outputs": [
    {
     "name": "stdout",
     "output_type": "stream",
     "text": [
      "adj matrix\n",
      "[0, 1, 0, 0, 0, 0, 0, 1]\n",
      "[1, 0, 1, 0, 0, 0, 0, 0]\n",
      "[0, 1, 0, 1, 0, 0, 0, 0]\n",
      "[0, 0, 1, 0, 1, 0, 0, 0]\n",
      "[0, 0, 0, 1, 0, 1, 0, 0]\n",
      "[0, 0, 0, 0, 1, 0, 1, 0]\n",
      "[0, 0, 0, 0, 0, 1, 0, 1]\n",
      "[1, 0, 0, 0, 0, 0, 1, 0]\n",
      "num_nodes: 8\n"
     ]
    }
   ],
   "source": [
    "adj_matrix = get_adj_matrix()\n",
    "num_nodes = len(adj_matrix)\n",
    "\n",
    "print('adj matrix')\n",
    "for row in adj_matrix:\n",
    "    print(row)\n",
    "    \n",
    "print('num_nodes:', num_nodes)"
   ]
  },
  {
   "cell_type": "code",
   "execution_count": 4,
   "metadata": {},
   "outputs": [],
   "source": [
    "# load txt data and apply label\n",
    "def load_data():\n",
    "    # load data\n",
    "    data = []\n",
    "    print('start read sensorData')\n",
    "    for i in tqdm(range(num_nodes)):\n",
    "        curr = np.loadtxt('./data/123456people_320000frame_simple/sensorData_{}.txt'.format(i+1), delimiter=',', dtype=np.int32)\n",
    "        data.append(curr)\n",
    "\n",
    "    # data.shape: (time, node, 9)    \n",
    "    data = np.stack(data, axis=1)\n",
    "    \n",
    "    # apply label\n",
    "    bins=[1, 4, 7]\n",
    "    data[:, :, 0] = np.digitize(data[:, :, 0], bins)\n",
    "    print('end read sensorData')\n",
    "    return data"
   ]
  },
  {
   "cell_type": "code",
   "execution_count": 5,
   "metadata": {},
   "outputs": [
    {
     "name": "stdout",
     "output_type": "stream",
     "text": [
      "start read sensorData\n"
     ]
    },
    {
     "data": {
      "application/vnd.jupyter.widget-view+json": {
       "model_id": "e836e7ffd25346e58577a82ac0c75002",
       "version_major": 2,
       "version_minor": 0
      },
      "text/plain": [
       "HBox(children=(IntProgress(value=0, max=8), HTML(value='')))"
      ]
     },
     "metadata": {},
     "output_type": "display_data"
    },
    {
     "name": "stdout",
     "output_type": "stream",
     "text": [
      "\n",
      "end read sensorData\n",
      "number of rows that have label==3: 9239\n",
      "number of rows that have label==2: 107557\n",
      "number of rows that have label==1: 187630\n",
      "number of rows that have label==0: 320000\n",
      "counts: (array([0, 1, 2, 3], dtype=int32), array([2178103,  251146,  121498,    9253]))\n"
     ]
    }
   ],
   "source": [
    "# 특정 label을 포함한 row의 갯수 확인\n",
    "def train_example_check():\n",
    "    data = load_data()\n",
    "    labels = data[:, :, 0]\n",
    "    print('number of rows that have label==3:', np.sum(np.any(labels==3, axis=1)))\n",
    "    print('number of rows that have label==2:', np.sum(np.any(labels==2, axis=1)))\n",
    "    print('number of rows that have label==1:', np.sum(np.any(labels==1, axis=1)))\n",
    "    print('number of rows that have label==0:', np.sum(np.any(labels==0, axis=1)))\n",
    "    print('counts:', np.unique(labels, return_counts=True))\n",
    "    \n",
    "train_example_check()"
   ]
  },
  {
   "cell_type": "code",
   "execution_count": 6,
   "metadata": {},
   "outputs": [],
   "source": [
    "# # temp cell\n",
    "# data = load_data()"
   ]
  },
  {
   "cell_type": "code",
   "execution_count": 7,
   "metadata": {},
   "outputs": [],
   "source": [
    "# frame_size = 8\n",
    "# after = 80\n",
    "# curr = []\n",
    "# for t in tqdm(range(data.shape[0])):\n",
    "#     if t-frame_size-after >= 0 and np.any(data[t, :, 0]==3):\n",
    "#         curr.append(data[t, :, 0]) # append label\n",
    "        \n",
    "# curr = np.array(curr)"
   ]
  },
  {
   "cell_type": "code",
   "execution_count": 8,
   "metadata": {},
   "outputs": [],
   "source": [
    "# np.unique(curr, return_counts=True)"
   ]
  },
  {
   "cell_type": "code",
   "execution_count": 9,
   "metadata": {},
   "outputs": [],
   "source": [
    "# np.return"
   ]
  },
  {
   "cell_type": "code",
   "execution_count": null,
   "metadata": {},
   "outputs": [],
   "source": []
  },
  {
   "cell_type": "code",
   "execution_count": null,
   "metadata": {},
   "outputs": [],
   "source": []
  },
  {
   "cell_type": "code",
   "execution_count": 10,
   "metadata": {},
   "outputs": [],
   "source": [
    "# GCN의 input\n",
    "# x: (NxF) matrix, F=frame_size*8(sensor bit)\n",
    "# y: (Nx4) one-hot matrix\n",
    "# A: (NxN) adj matrix\n",
    "# GCN에 입력될 형태의 x, y를 가져옴\n",
    "# frame_size: x의 feature로 사용할 frame_size\n",
    "# after: after개의 frame 후를 예측\n",
    "\n",
    "def prepare_data(data, frame_size, after):\n",
    "    x, y = [], []\n",
    "    # iterate over row(time)\n",
    "    for t in tqdm(range(data.shape[0])):\n",
    "        # label==3을 포함한 frame만 고려\n",
    "        if not np.any(data[t, :, 0]==3):\n",
    "            continue\n",
    "            \n",
    "        # frame_size만큼 볼 수 없는경우 제외\n",
    "        if t-frame_size-after < 0:\n",
    "            continue\n",
    "            \n",
    "        curr_x = data[t-frame_size-after+1:t-after+1, :, 1:] # (frame_size, 8(node), 8(sensor))\n",
    "        curr_x = np.swapaxes(curr_x, 0, 1) # swap axis to (8(node), frame_size, 8(sensor))\n",
    "        curr_x = np.reshape(curr_x, (8, frame_size*8)) # reshape to (8(node), frame_size*8(sensor))\n",
    "        curr_y = data[t, :, 0] # shape = (8,)\n",
    "        curr_y = to_categorical(curr_y) # one-hot encoding\n",
    "        \n",
    "        x.append(curr_x)\n",
    "        y.append(curr_y)\n",
    "        \n",
    "    x = np.array(x)\n",
    "    y = np.array(y)\n",
    "    \n",
    "    return x, y\n",
    "\n",
    "# frame_size와 after에 해당하는 x,y를 가져옴\n",
    "# file형태로 저장되어있으면 file read, 저장되어있지 않으면 prepare_train_data를 이용해서 직접 가공 및 file write\n",
    "def get_xy(frame_size, after):\n",
    "    file_x = './data/123456people_320000frame_simple/gcn_get_xy_x_{}_{}.npy'.format(frame_size, after)\n",
    "    file_y = './data/123456people_320000frame_simple/gcn_get_xy_y_{}_{}.npy'.format(frame_size, after)\n",
    "    if os.path.isfile(file_x) and os.path.isfile(file_y):\n",
    "        x = np.load(file_x)\n",
    "        y = np.load(file_y)\n",
    "        return x, y\n",
    "    else:\n",
    "        data = load_data()\n",
    "        x, y = prepare_data(data, frame_size, after)\n",
    "        np.save(file_x, x)\n",
    "        np.save(file_y, y)\n",
    "        return x, y"
   ]
  },
  {
   "cell_type": "code",
   "execution_count": 11,
   "metadata": {},
   "outputs": [],
   "source": [
    "x, y = get_xy(8, 80)\n",
    "x_train, x_test, y_train, y_test = train_test_split(x, y, test_size=0.2, random_state=42)\n",
    "x_train, x_valid, y_train, y_valid = train_test_split(x_train, y_train, test_size=0.2, random_state=42)"
   ]
  },
  {
   "cell_type": "code",
   "execution_count": 12,
   "metadata": {},
   "outputs": [
    {
     "name": "stdout",
     "output_type": "stream",
     "text": [
      "(9239, 8, 64) (9239, 8, 4)\n",
      "(5912, 8, 64) (5912, 8, 4)\n",
      "(1479, 8, 64) (1479, 8, 4)\n",
      "(1848, 8, 64) (1848, 8, 4)\n"
     ]
    }
   ],
   "source": [
    "print(x.shape, y.shape)\n",
    "print(x_train.shape, y_train.shape)\n",
    "print(x_valid.shape, y_valid.shape)\n",
    "print(x_test.shape, y_test.shape)"
   ]
  },
  {
   "cell_type": "markdown",
   "metadata": {},
   "source": [
    "## model"
   ]
  },
  {
   "cell_type": "code",
   "execution_count": 13,
   "metadata": {},
   "outputs": [],
   "source": [
    "# return DAD matrix\n",
    "def norm_matrix(adj_matrix):\n",
    "    ahat = np.array(adj_matrix) + np.eye(len(adj_matrix))\n",
    "    dhat_prime = np.diag(1 / np.sqrt(np.sum(ahat, axis=1)))\n",
    "    return np.matmul(np.matmul(dhat_prime, ahat), dhat_prime) # return DAD"
   ]
  },
  {
   "cell_type": "code",
   "execution_count": 14,
   "metadata": {},
   "outputs": [],
   "source": [
    "import matplotlib.pyplot as plt\n",
    "%matplotlib inline\n",
    "def plot_history(ta, tl, va, vl):\n",
    "    fig, ax = plt.subplots(1, 2, figsize=(20, 10))\n",
    "    ax[0].set_title('loss')\n",
    "    ax[0].plot(tl)\n",
    "    ax[0].plot(vl)\n",
    "    ax[0].set_xlabel('epochs')\n",
    "    ax[0].set_ylabel('loss')\n",
    "    ax[0].legend(['Train', 'Valid'])\n",
    "    \n",
    "    ax[1].set_title('accuracy')\n",
    "    ax[1].plot(ta)\n",
    "    ax[1].plot(va)\n",
    "    ax[1].set_xlabel('epochs')\n",
    "    ax[1].set_ylabel('accuracy')\n",
    "    ax[1].legend(['Train', 'Valid'])\n",
    "    \n",
    "    plt.show()"
   ]
  },
  {
   "cell_type": "code",
   "execution_count": 32,
   "metadata": {},
   "outputs": [],
   "source": [
    "class GCN():\n",
    "    def __init__(self, input_dim, adj_matrix, learning_rate, batch_size):\n",
    "        N = len(adj_matrix) # number of nodes in graph\n",
    "        n_matrix = norm_matrix(adj_matrix) # DAD matrix, shape: (N, N)\n",
    "        # DAD matrix for batch matrix multiplication, shape: (batch_size, N, N)\n",
    "        n_matrix_batch = np.tile(np.expand_dims(n_matrix, axis=0), [batch_size, 1, 1]) \n",
    "        dim1 = 128 # number of output neurons in first layer\n",
    "        dim2 = 128 # number of output neurons in second layer\n",
    "        dim3 = 4 # prediction over 4 class\n",
    "        init = tf.contrib.layers.xavier_initializer() # xavier_initalizer\n",
    "        \n",
    "        self.x = tf.placeholder(tf.float32, [batch_size, N, input_dim])\n",
    "        self.y = tf.placeholder(tf.float32, [batch_size, N, 4])\n",
    "        \n",
    "        self.N = tf.constant(n_matrix, tf.float32) # shape: (N, N)\n",
    "        self.N_batch = tf.constant(n_matrix_batch, tf.float32) # shape: (batch_size, N, N)\n",
    "        \n",
    "        # first layer\n",
    "        self.W1 = tf.Variable(init([input_dim, dim1]))\n",
    "        self.L1 = tf.matmul(self.N_batch, self.x) # shape: (batch_size, N, input_dim)\n",
    "        self.L1 = tf.reshape(self.L1, [batch_size*N, input_dim]) # shape: (batch_size*N, input_dim)\n",
    "        self.L1 = tf.matmul(self.L1, self.W1) # shape: (batch_size*N, dim1)\n",
    "        self.L1 = tf.nn.tanh(self.L1)\n",
    "        self.L1 = tf.reshape(self.L1, [batch_size, N, dim1]) # shape: (batch_size, N, dim1)\n",
    "\n",
    "        # second layer\n",
    "        self.W2 = tf.Variable(init([dim1, dim2]))\n",
    "        self.L2 = tf.matmul(self.N_batch, self.L1) # shape: (batch_size, N, dim1)\n",
    "        self.L2 = tf.reshape(self.L2, [batch_size*N, dim1]) # shape: (batch_size*N, dim1)\n",
    "        self.L2 = tf.matmul(self.L2, self.W2) # shape: (batch_size*N, dim2)\n",
    "        self.L2 = tf.nn.relu(self.L2)\n",
    "        self.L2 = tf.reshape(self.L2, [batch_size, N, dim2]) # shape: (batch_size, N, dim2)\n",
    "        \n",
    "        # last layer\n",
    "        self.W3 = tf.Variable(init([dim2, dim3]))\n",
    "        self.L3 = tf.matmul(self.N_batch, self.L2) # shape: (batch_size, N, dim2)\n",
    "        self.L3 = tf.reshape(self.L3, [batch_size*N, dim2]) # shape: (batch_size*N, dim2)\n",
    "        self.L3 = tf.matmul(self.L3, self.W3) # shape: (batch_size*N, dim3)\n",
    "        \n",
    "        # another tensors\n",
    "        y = tf.reshape(self.y, [batch_size*N, dim3]) # reshape to (batch_size*N, dim3)\n",
    "        self.loss = tf.reduce_mean(tf.nn.softmax_cross_entropy_with_logits_v2(logits=self.L3, labels=y))\n",
    "        \n",
    "        optimizer = tf.train.AdamOptimizer(learning_rate)\n",
    "        self.train_step = optimizer.minimize(self.loss)\n",
    "        \n",
    "        correct = tf.equal(tf.argmax(y, axis=1), tf.argmax(self.L3, axis=1))\n",
    "        self.correct = correct\n",
    "        self.accuracy = tf.reduce_mean(tf.cast(correct, tf.float32))\n",
    "        \n",
    "        pred = tf.reshape(self.L3, [batch_size, N, dim3])\n",
    "        self.ppred = pred\n",
    "        self.pred = tf.argmax(pred, axis=2)"
   ]
  },
  {
   "cell_type": "code",
   "execution_count": 75,
   "metadata": {
    "scrolled": false
   },
   "outputs": [],
   "source": [
    "def train(x_train, y_train, x_valid, y_valid, x_test, y_test):\n",
    "    batch_size = 100\n",
    "    learning_rate = 0.01\n",
    "    frame_size = 8\n",
    "    after = 80\n",
    "    epochs = 1000\n",
    "    input_dim = frame_size*8\n",
    "    gcn = GCN(input_dim=input_dim, adj_matrix=adj_matrix,\n",
    "              learning_rate=learning_rate,\n",
    "              batch_size=batch_size)\n",
    "    loss = gcn.loss\n",
    "    step = gcn.train_step\n",
    "    pred = gcn.pred\n",
    "    accuracy = gcn.accuracy\n",
    "    x = gcn.x\n",
    "    y = gcn.y\n",
    "    \n",
    "    train_acc = []\n",
    "    train_loss = []\n",
    "    valid_acc = []\n",
    "    valid_loss = []\n",
    "    with tf.Session() as sess:\n",
    "        sess.run(tf.global_variables_initializer())\n",
    "\n",
    "        for epoch in tqdm(range(epochs)):\n",
    "            \n",
    "            '''\n",
    "            propagation rule H' = DADHW 에서\n",
    "            H가 3d tensor(batch_size, num_nodes, input_dim) 이라서 batch_size를 None으로 줄 수 없고 직접 명시해야함\n",
    "            또한 그 이유로 인해 한번 network가 정해질 때 batch_size를 parameter로 받아야하며 train 뿐만아니라 validation,\n",
    "            test의 경우에도 같은 batch_size를 써야함\n",
    "            밑의 코드가 train set, valid set에 대해서 분리된 이유도 batch_size를 명시해서 돌려야하기 때문\n",
    "            '''\n",
    "\n",
    "            # for train set\n",
    "            rand_idx = np.random.permutation(len(x_train))\n",
    "            x_shuf = x_train[rand_idx]\n",
    "            y_shuf = y_train[rand_idx]\n",
    "            sum_loss = 0.0\n",
    "            sum_acc = 0.0\n",
    "            num_iter = int(len(x_shuf) / batch_size)\n",
    "            for i in range(num_iter):\n",
    "                start = batch_size*i\n",
    "                end = batch_size*(i+1)\n",
    "                l, _, acc = sess.run([loss, step, accuracy], feed_dict={\n",
    "                    x: x_shuf[start:end],\n",
    "                    y: y_shuf[start:end],\n",
    "                })\n",
    "                sum_loss += l\n",
    "                sum_acc += acc\n",
    "                \n",
    "            avg_loss = sum_loss / num_iter\n",
    "            avg_acc = sum_acc / num_iter\n",
    "            train_acc.append(avg_acc)\n",
    "            train_loss.append(avg_loss)\n",
    "\n",
    "            \n",
    "            # for valid set\n",
    "            rand_idx = np.random.permutation(len(x_valid))\n",
    "            x_shuf = x_valid[rand_idx]\n",
    "            y_shuf = y_valid[rand_idx]\n",
    "            sum_loss = 0.0\n",
    "            sum_acc = 0.0\n",
    "            num_iter = int(len(x_shuf) / batch_size)\n",
    "            for i in range(num_iter):\n",
    "                start = batch_size*i\n",
    "                end = batch_size*(i+1)\n",
    "                l, _, acc = sess.run([loss, step, accuracy], feed_dict={\n",
    "                    x: x_shuf[start:end],\n",
    "                    y: y_shuf[start:end],\n",
    "                })\n",
    "                sum_loss += l\n",
    "                sum_acc += acc\n",
    "\n",
    "            avg_loss = sum_loss / num_iter\n",
    "            avg_acc = sum_acc / num_iter\n",
    "            valid_acc.append(avg_acc)\n",
    "            valid_loss.append(avg_loss)\n",
    "            \n",
    "#             print('epoch: %3d, train_loss: %.4f, train_acc: %.4f, valid_loss: %.4f, valid_acc: %.4f' %\n",
    "#                   (epoch, train_loss[-1], train_acc[-1], valid_loss[-1], valid_acc[-1]))\n",
    "            \n",
    "\n",
    "    \n",
    "        # for test\n",
    "        num_iter = int(len(x_test) / batch_size)\n",
    "        sum_loss = 0.0\n",
    "        sum_acc = 0.0\n",
    "        trues = np.array([0,0,0,0]) # for answer statistics\n",
    "        falses = np.array([0,0,0,0]) # for answer statistics\n",
    "        total_num = 0\n",
    "        for i in range(num_iter):\n",
    "            start = batch_size*i\n",
    "            end = batch_size*(i+1)\n",
    "            l, acc, cor, pre, ppre = sess.run([loss, accuracy, gcn.correct,\n",
    "                                               pred, gcn.ppred], feed_dict={\n",
    "                x: x_test[start:end],\n",
    "                y: y_test[start:end],\n",
    "            })\n",
    "            \n",
    "            sum_loss += l\n",
    "            sum_acc += acc\n",
    "            \n",
    "            answer = np.argmax(y_test[start:end], axis=2).reshape(-1) # shape: (batch_size*N)\n",
    "            total_num += answer.shape[0]\n",
    "            for _ in range(answer.shape[0]):\n",
    "                curr = answer[_]\n",
    "                if cor[_]:\n",
    "                    trues[curr] += 1\n",
    "                else:\n",
    "                    falses[curr] += 1\n",
    "            \n",
    "            \n",
    "        avg_loss = sum_loss / num_iter\n",
    "        avg_acc = sum_acc / num_iter\n",
    "        \n",
    "        print('min train loss:', min(train_loss))\n",
    "        print('loss, acc on test:', avg_loss, avg_acc)\n",
    "        for i in range(4):\n",
    "            print('label %d: %d/%d' % (i, trues[i], (trues+falses)[i]))\n",
    "        print('accuracy:', np.sum(trues)/(np.sum(trues)+np.sum(falses)))\n",
    "        print('total_num:', total_num)\n",
    "        print('pred=============')\n",
    "        print(np.unique(pre, return_counts=True))\n",
    "        print(ppre)\n",
    "    return train_acc, train_loss, valid_acc, valid_loss"
   ]
  },
  {
   "cell_type": "code",
   "execution_count": 76,
   "metadata": {
    "scrolled": false
   },
   "outputs": [
    {
     "data": {
      "application/vnd.jupyter.widget-view+json": {
       "model_id": "cb5d3e8c592a4007a14b36477c824151",
       "version_major": 2,
       "version_minor": 0
      },
      "text/plain": [
       "HBox(children=(IntProgress(value=0, max=1000), HTML(value='')))"
      ]
     },
     "metadata": {},
     "output_type": "display_data"
    },
    {
     "name": "stdout",
     "output_type": "stream",
     "text": [
      "min train loss: 0.7017559116169557\n",
      "loss, acc on test: 2.246530340777503 0.7121527791023254\n",
      "label 0: 10000/11387\n",
      "label 1: 48/920\n",
      "label 2: 9/291\n",
      "label 3: 198/1802\n",
      "accuracy: 0.7121527777777777\n",
      "total_num: 14400\n",
      "pred=============\n",
      "(array([0, 1, 2, 3]), array([685,  33,   9,  73]))\n",
      "[[[  2.8812082   -0.6785673   -4.246268    -0.43306816]\n",
      "  [  3.3614092   -0.7916615   -4.9539785   -0.5052464 ]\n",
      "  [  2.881208    -0.6785673   -4.246268    -0.43306816]\n",
      "  ...\n",
      "  [  0.           0.           0.           0.        ]\n",
      "  [  0.4802013   -0.11309437  -0.70771104  -0.07217829]\n",
      "  [  1.440604    -0.3392831   -2.1231332   -0.2165348 ]]\n",
      "\n",
      " [[  0.           0.           0.           0.        ]\n",
      "  [  0.           0.           0.           0.        ]\n",
      "  [  0.           0.           0.           0.        ]\n",
      "  ...\n",
      "  [  0.           0.           0.           0.        ]\n",
      "  [  0.           0.           0.           0.        ]\n",
      "  [  0.           0.           0.           0.        ]]\n",
      "\n",
      " [[  3.922316    -1.2857099  -19.404083    -0.53863347]\n",
      "  [  3.543793    -7.0540757   -4.58421      1.9185605 ]\n",
      "  [  4.429015   -13.209197     2.407601     3.774335  ]\n",
      "  ...\n",
      "  [  0.8039868    3.0966077   -9.6705065   -0.42418194]\n",
      "  [  2.6693163    3.9572272  -22.30408     -1.7005105 ]\n",
      "  [  3.9651399    2.3291826  -25.259262    -1.834609  ]]\n",
      "\n",
      " ...\n",
      "\n",
      " [[  1.4315295   -0.21939176  -1.3344984   -0.1843293 ]\n",
      "  [  2.8630593   -0.43878275  -2.668997    -0.36865982]\n",
      "  [  3.3402355   -0.51191366  -3.1138296   -0.43010247]\n",
      "  ...\n",
      "  [  0.47717652  -0.07313058  -0.4448328   -0.06144308]\n",
      "  [  0.           0.           0.           0.        ]\n",
      "  [  0.47717652  -0.07313058  -0.4448328   -0.06144308]]\n",
      "\n",
      " [[  0.           0.           0.           0.        ]\n",
      "  [  1.5150583   -1.3841506   -6.51534      0.43870887]\n",
      "  [  4.5451746   -4.152452   -19.546019     1.3161266 ]\n",
      "  ...\n",
      "  [  9.090351    -8.304907   -39.092037     2.632254  ]\n",
      "  [  4.5451746   -4.152452   -19.546019     1.3161266 ]\n",
      "  [  1.5150583   -1.3841506   -6.51534      0.43870887]]\n",
      "\n",
      " [[  0.           0.           0.           0.        ]\n",
      "  [  0.           0.           0.           0.        ]\n",
      "  [  0.           0.           0.           0.        ]\n",
      "  ...\n",
      "  [  0.           0.           0.           0.        ]\n",
      "  [  0.           0.           0.           0.        ]\n",
      "  [  0.           0.           0.           0.        ]]]\n"
     ]
    },
    {
     "data": {
      "image/png": "[encoded data removed]",
      "text/plain": [
       "<Figure size 1440x720 with 2 Axes>"
      ]
     },
     "metadata": {
      "needs_background": "light"
     },
     "output_type": "display_data"
    }
   ],
   "source": [
    "for i in range(1):\n",
    "    x, y = get_xy(8, 80)\n",
    "    x_train, x_test, y_train, y_test = train_test_split(x, y, test_size=0.2)\n",
    "    x_train, x_valid, y_train, y_valid = train_test_split(x_train, y_train, test_size=0.2)\n",
    "    ta, tl, va, vl = train(x_train, y_train, x_valid, y_valid, x_test, y_test)\n",
    "    plot_history(ta, tl, va, vl)"
   ]
  },
  {
   "cell_type": "code",
   "execution_count": null,
   "metadata": {},
   "outputs": [],
   "source": []
  }
 ],
 "metadata": {
  "kernelspec": {
   "display_name": "Python 3",
   "language": "python",
   "name": "python3"
  },
  "language_info": {
   "codemirror_mode": {
    "name": "ipython",
    "version": 3
   },
   "file_extension": ".py",
   "mimetype": "text/x-python",
   "name": "python",
   "nbconvert_exporter": "python",
   "pygments_lexer": "ipython3",
   "version": "3.5.4"
  }
 },
 "nbformat": 4,
 "nbformat_minor": 2
}
