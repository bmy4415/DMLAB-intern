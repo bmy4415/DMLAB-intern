{
 "cells": [
  {
   "cell_type": "code",
   "execution_count": 1,
   "metadata": {},
   "outputs": [],
   "source": [
    "import tensorflow as tf\n",
    "import numpy as np"
   ]
  },
  {
   "cell_type": "code",
   "execution_count": 1,
   "metadata": {},
   "outputs": [],
   "source": [
    "'''\n",
    "한개의 time 단위로 train => time 기준 batch_size=1\n",
    "masking 사용하지 않음 => F1 score나 confusion matrix로 보여줄 것이기 때문\n",
    "'''\n",
    "class GCN_WITH_LSTM():\n",
    "    def __init__(self, num_frame, nomalized_adj, input_dim=8, num_nodes=8, num_classes=4):\n",
    "\n",
    "        init = tf.initializers.he_normal()\n",
    "        lstm_hidden = 64\n",
    "        num_lstm_layers = 1\n",
    "        gcn_hidden = 64\n",
    "        \n",
    "        # placeholders\n",
    "        self.x = tf.placeholder(tf.float32, [num_nodes, num_frame, input_dim])\n",
    "        self.y = tf.placeholder(tf.float32, [num_nodes, num_classes])\n",
    "        \n",
    "        # normalized adj matrix for GCN\n",
    "        # you can improve this by using sparse tensor when adj matrix is large\n",
    "        self.A = tf.constant(nomalized_adj)\n",
    "\n",
    "        cell = tf.nn.rnn_cell.LSTMCell(lstm_hidden)\n",
    "        cell = tf.nn.rnn_cell.MultiRNNCell([cell] * num_layers)\n",
    "        \n",
    "        # forward lstm\n",
    "        outputs, _ = tf.nn.rnn(cell, self.x) # outputs.shape: (num_nodes, lstm_hidden)\n",
    "        \n",
    "        # forward GCN\n",
    "        self.w1 = tf.Variable(init, [lstm_hidden, gcn_hidden])\n",
    "        self.h1 = tf.matmul(tf.matmul(self.A, outputs), self.w1)\n",
    "        \n",
    "        self.w2 = tf.Variable(init, [gcn_hidden, num_classes])\n",
    "        self.h2 = tf.matmul(tf.matmul(self.A, self.h1), self.w2)\n",
    "        \n",
    "        # prediction\n",
    "        self.pred = tf.argmax(self.h2, axis=1)\n",
    "        \n",
    "        # loss function\n",
    "        # (as far as I know) we cannot directly optimize metric(F1 score, accuracy ...etc)\n",
    "        self.loss = tf.reduce_mean(\n",
    "            tf.nn.softmax_cross_entropy_with_logits_v2(logits=self.h2, labels=self.y))\n",
    "\n",
    "        # optimizer\n",
    "        optimizer = tf.train.AdamOptimizer()\n",
    "        self.train_step = optimizer.minimize(self.loss)\n",
    "        \n",
    "        # metric - accuracy\n",
    "        correct = tf.equal(tf.argmax(self.h2, axis=1), tf.argmax(self.y, axis=1))\n",
    "        self.accuracy = tf.reduce_mean(tf.cast(correct, tf.float32))"
   ]
  },
  {
   "cell_type": "code",
   "execution_count": 2,
   "metadata": {},
   "outputs": [],
   "source": [
    "def get_adj_matrix():\n",
    "    return [\n",
    "        [0, 1, 0, 0, 0, 0, 0, 1],\n",
    "        [1, 0, 1, 0, 0, 0, 0, 0],\n",
    "        [0, 1, 0, 1, 0, 0, 0, 0],\n",
    "        [0, 0, 1, 0, 1, 0, 0, 0],\n",
    "        [0, 0, 0, 1, 0, 1, 0, 0],\n",
    "        [0, 0, 0, 0, 1, 0, 1, 0],\n",
    "        [0, 0, 0, 0, 0, 1, 0, 1],\n",
    "        [1, 0, 0, 0, 0, 0, 1, 0],\n",
    "    ]\n",
    "    \n",
    "# make DAD(normalization) matrix\n",
    "def normalize_matrix(adj_matrix):\n",
    "    a_tilda = adj_matrix + np.eye(adj_matrix.shape[0]) # A_ = A+I\n",
    "    d_tilda = np.diag(1 / np.sqrt(np.sum(a_tilda, axis=1))) # D_^(-1/2)\n",
    "    return np.matmul(np.matmul(d_tilda, a_tilda), d_tilda)"
   ]
  },
  {
   "cell_type": "code",
   "execution_count": null,
   "metadata": {},
   "outputs": [],
   "source": [
    "def train_model():\n",
    "    epochs = 300\n",
    "    normalized_adj = normalize_matrix(get_adj_matrix())\n",
    "    frame_size = \n",
    "    after = \n",
    "    \n",
    "    \n",
    "    ##########################\n",
    "    data = load_data() # shape: (num_nodes, 9, 320000)\n",
    "    x, y = preprocess_data()\n",
    "    x.shape = (320000-frame_size-after+1, num_nodes, 8)\n",
    "    y.shape = (320000-frame_size-after+1, num_nodes)\n",
    "    \n",
    "    for t in range(320000-frame_size-after+1):\n",
    "        curr_x = x[t, :, :]\n",
    "        curr_y = y[t, :, :]\n",
    "    ##########################"
   ]
  }
 ],
 "metadata": {
  "kernelspec": {
   "display_name": "Python 3",
   "language": "python",
   "name": "python3"
  },
  "language_info": {
   "codemirror_mode": {
    "name": "ipython",
    "version": 3
   },
   "file_extension": ".py",
   "mimetype": "text/x-python",
   "name": "python",
   "nbconvert_exporter": "python",
   "pygments_lexer": "ipython3",
   "version": "3.5.4"
  }
 },
 "nbformat": 4,
 "nbformat_minor": 2
}
