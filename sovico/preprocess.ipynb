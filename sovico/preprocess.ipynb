{
 "cells": [
  {
   "cell_type": "code",
   "execution_count": 20,
   "metadata": {},
   "outputs": [],
   "source": [
    "import numpy as np\n",
    "import os\n",
    "from tqdm import tqdm\n",
    "import random"
   ]
  },
  {
   "cell_type": "code",
   "execution_count": null,
   "metadata": {},
   "outputs": [],
   "source": [
    "def load_data(data_path, num_nodes=8):\n",
    "    print('start \"load_data\"...')\n",
    "    data = []\n",
    "    for i in tqdm(range(num_nodes)):\n",
    "        curr = np.loadtxt(os.path.join(data_path, 'sensorData_{}.txt'.format(i+1)), delimiter=',', dtype=np.float32)\n",
    "        data.append(curr)\n",
    "\n",
    "    # data.shape: (time, node, 9)    \n",
    "    data = np.stack(data, axis=1)\n",
    "    \n",
    "    # apply label\n",
    "    bins=[1, 4, 7]\n",
    "    data[:, :, 0] = np.digitize(data[:, :, 0], bins)\n",
    "    \n",
    "    print('end \"load_data\"!')\n",
    "    return data"
   ]
  },
  {
   "cell_type": "code",
   "execution_count": 31,
   "metadata": {},
   "outputs": [],
   "source": [
    "def pick_index(data_path, frame_size, after, num_nodes=8):\n",
    "    '''\n",
    "    주어진 sensor data는 shape가 (N, number of frame, 9)인 3차원 tensor이다.\n",
    "    N은 number of nodes를 의미한다.\n",
    "    number of frame은 총 frame의 수를 의미하며 각 frame은 1/8초 간격으로 생성(측정)된다.\n",
    "    마지막 9는 sensor data와 사람의 숫자를 의미한다. 0번 index가 사람의 숫자이며 1~8번 index는 8bit binary sensor data를\n",
    "    나타낸다.\n",
    "    \n",
    "    우리의 task는 정확한 사람의 숫자를 예측하는 것이 아니라 0(0명), 1(1~3명), 2(4~6명), 3(7명 이상)의 사람 수의 카테고리를\n",
    "    예측하는 것이다. simulation으로 생성된 data를 살펴본 바 대부분의 label이 0으로 되어있음을 확인하였다. 그 결과 label간의 균형을\n",
    "    맞추어 학습을 진행하기 위해 전체 data를 그대로 예측하지 않고 label을 기준으로 균등하게 선택된 example에 대해서만 예측을 진행한다.\n",
    "    label은 hyper parameter인 (frame_size, after)에 의해 결정된다. 특히 sensor를 설치하는 graph가 바뀌는 경우를 대비하여\n",
    "    num_nodes도 pick_index function의 parameter로 이용한다.\n",
    "    \n",
    "    균등하게 선택된 예측하고자 하는 label은 (time, node_number)로 표현할 수 있다.\n",
    "    즉 input feature는 data[node_number, time-after-frame_size:time-after, 1:9],\n",
    "    output label은 data[node_number, time, 0]으로 나타낼 수 있다.\n",
    "    \n",
    "    실험하고자 하는 model은 FNN, RNN, GCN 등인데 FNN과 RNN은 특정 시점 t의 특정 node n만을 이용하여 실험을 진행할 수 있지만\n",
    "    GCN은 전체 graph 정보를 다 이용한다. 그래서 FNN/RNN과 GCN이 똑같은 (t, n)에 대해 예측을 진행할 수 있도록 pick_index\n",
    "    를 통해 예측하고자 하는 label 정보를 return해 준다.\n",
    "    \n",
    "    return: list of (t, n), t는 t번째 frame, n은 n번째 node를 의미함\n",
    "    0 <= t < total_frame\n",
    "    0 <= n < num_nodes\n",
    "    '''\n",
    "    result = [[], [], [], []] # result[k] => [t, n] with label k\n",
    "    threshold = 5000 # minimum number of selected examples per label\n",
    "    seed = 5 # random seed\n",
    "    print('start \"pick_index\"...')\n",
    "    \n",
    "    data = load_data(data_path, num_nodes)\n",
    "    # iter over time\n",
    "    for t in range(data.shape[0]):            \n",
    "        if t-after-frame_size+1 < 0:\n",
    "            continue\n",
    "            \n",
    "        for n in range(num_nodes):\n",
    "            label = data[t, n, 0]\n",
    "            result[label].append((t, n))\n",
    "            \n",
    "    # shuffle\n",
    "    random.seed(seed)\n",
    "    for i in range(4):\n",
    "        random.shuffle(result[i])\n",
    "\n",
    "    print('end \"pick_index\"!')\n",
    "    return [\n",
    "        *result[0][:threshold],\n",
    "        *result[1][:threshold],\n",
    "        *result[2][:threshold],\n",
    "        *result[3][:threshold],\n",
    "    ]"
   ]
  },
  {
   "cell_type": "code",
   "execution_count": null,
   "metadata": {},
   "outputs": [],
   "source": []
  }
 ],
 "metadata": {
  "kernelspec": {
   "display_name": "Python 3",
   "language": "python",
   "name": "python3"
  },
  "language_info": {
   "codemirror_mode": {
    "name": "ipython",
    "version": 3
   },
   "file_extension": ".py",
   "mimetype": "text/x-python",
   "name": "python",
   "nbconvert_exporter": "python",
   "pygments_lexer": "ipython3",
   "version": "3.5.4"
  }
 },
 "nbformat": 4,
 "nbformat_minor": 2
}
